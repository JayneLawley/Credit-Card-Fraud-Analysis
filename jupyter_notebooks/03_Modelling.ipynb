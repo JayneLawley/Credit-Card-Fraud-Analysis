{
  "cells": [
    {
      "cell_type": "markdown",
      "metadata": {
        "id": "0aStgWSO0E0E"
      },
      "source": [
        "# **Model Selection & Evaluation**"
      ]
    },
    {
      "cell_type": "markdown",
      "metadata": {
        "id": "1eLEkw5O0ECa"
      },
      "source": [
        "* Establish baselines; connect metrics to business trade-offs.\n",
        "\n",
        "**Note:** This modelling uses a processed stratified sample (100k rows) of a larger dataset (1M rows) to ensure efficient training while maintaining the fraud class balance. Details are provided in 01_ETL.ipynb\n",
        "\n",
        "## Inputs\n",
        "\n",
        "* Processed dataset data/processed/card_transdata_processed.csv (derived from 100k stratified sample)\n",
        "\n",
        "## Outputs\n",
        "\n",
        "* Baseline metrics, plots, and a predictions CSV for later comparison.\n",
        "\n"
      ]
    },
    {
      "cell_type": "markdown",
      "metadata": {
        "id": "9uWZXH9LwoQg"
      },
      "source": [
        "---"
      ]
    },
    {
      "cell_type": "markdown",
      "metadata": {
        "id": "cqP-UeN-z3i2"
      },
      "source": [
        "# Change working directory"
      ]
    },
    {
      "cell_type": "markdown",
      "metadata": {},
      "source": [
        "I need to change the working directory from the current folder to its parent folder (required because the notebook is being run from inside the jupyter notebooks subfolder). In the code below, I change the working directory from its current folder to its parent folder.  \n",
        "* I access the current directory with os.getcwd()"
      ]
    },
    {
      "cell_type": "code",
      "execution_count": 1,
      "metadata": {
        "id": "wZfF_j-Bz3i4",
        "outputId": "66943449-1436-4c3d-85c7-b85f9f78349b"
      },
      "outputs": [
        {
          "data": {
            "text/plain": [
              "'c:\\\\DA_Capstone\\\\Credit-Card-Fraud-Analysis\\\\jupyter_notebooks'"
            ]
          },
          "execution_count": 1,
          "metadata": {},
          "output_type": "execute_result"
        }
      ],
      "source": [
        "import os\n",
        "current_dir = os.getcwd()\n",
        "current_dir"
      ]
    },
    {
      "cell_type": "markdown",
      "metadata": {
        "id": "9MWW8E7lz3i7"
      },
      "source": [
        "We want to make the parent of the current directory the new current directory\n",
        "* os.path.dirname() gets the parent directory\n",
        "* os.chdir() defines the new current directory"
      ]
    },
    {
      "cell_type": "code",
      "execution_count": 2,
      "metadata": {
        "id": "TwHsQRWjz3i9",
        "outputId": "86849db3-cd2f-4cc5-ebb8-2d0caafa1a2c"
      },
      "outputs": [
        {
          "name": "stdout",
          "output_type": "stream",
          "text": [
            "You set a new current directory\n"
          ]
        }
      ],
      "source": [
        "os.chdir(os.path.dirname(current_dir))\n",
        "print(\"You set a new current directory\")"
      ]
    },
    {
      "cell_type": "markdown",
      "metadata": {
        "id": "M_xPk_Ijz3i-"
      },
      "source": [
        "Confirm the new current directory"
      ]
    },
    {
      "cell_type": "code",
      "execution_count": 3,
      "metadata": {
        "id": "vz3S-_kjz3jA",
        "outputId": "00b79ae4-75d0-4a96-d193-ac9ef9847ea2"
      },
      "outputs": [
        {
          "data": {
            "text/plain": [
              "'c:\\\\DA_Capstone\\\\Credit-Card-Fraud-Analysis'"
            ]
          },
          "execution_count": 3,
          "metadata": {},
          "output_type": "execute_result"
        }
      ],
      "source": [
        "current_dir = os.getcwd()\n",
        "current_dir"
      ]
    },
    {
      "cell_type": "markdown",
      "metadata": {
        "id": "-mavJ8DibrcQ"
      },
      "source": [
        "# Section 1: Load, Check Shape"
      ]
    },
    {
      "cell_type": "markdown",
      "metadata": {},
      "source": [
        "Quick steps to:\n",
        "- Load processed file\n",
        "- Check Dataframe Shape is as expected (100000, 17)\n",
        "- Display first 5 rows to check loads as expected.\n"
      ]
    },
    {
      "cell_type": "code",
      "execution_count": 4,
      "metadata": {},
      "outputs": [
        {
          "data": {
            "text/plain": [
              "(100000, 17)"
            ]
          },
          "execution_count": 4,
          "metadata": {},
          "output_type": "execute_result"
        }
      ],
      "source": [
        "# =============================================================================\n",
        "# Import all libraries needed for the notebook\n",
        "# =============================================================================\n",
        "\n",
        "# Core data manipulation and path handling\n",
        "import pandas as pd  # Data manipulation and analysis\n",
        "import numpy as np    # Numerical operations and array handling\n",
        "from pathlib import Path  # Cross-platform file path handling\n",
        "\n",
        "# Data visualisation\n",
        "import matplotlib.pyplot as plt  # Static plotting\n",
        "import seaborn as sns # Enhanced visual styling\n",
        "\n",
        "# Display tools\n",
        "from IPython.display import display  # Pretty display of DataFrames in Jupyter\n",
        "\n",
        "# =============================================================================\n",
        "# Machine Learning: Model preparation and evaluation\n",
        "# =============================================================================\n",
        "from sklearn.model_selection import train_test_split, GridSearchCV  # Data splitting and tuning\n",
        "from sklearn.preprocessing import StandardScaler  # Feature scaling for numeric models\n",
        "from sklearn.linear_model import LogisticRegression  # Linear baseline classifier\n",
        "from sklearn.tree import DecisionTreeClassifier  # Simple tree model for interpretability\n",
        "from sklearn.ensemble import RandomForestClassifier, GradientBoostingClassifier  # Ensemble models\n",
        "from xgboost import XGBClassifier  # Gradient boosting with high performance\n",
        "\n",
        "# =============================================================================\n",
        "# Model evaluation metrics\n",
        "# =============================================================================\n",
        "from sklearn.metrics import (\n",
        "    accuracy_score, precision_score, recall_score, f1_score,  # Core classification metrics\n",
        "    precision_recall_curve, average_precision_score,  # PR curve metrics (preferred for imbalance)\n",
        "    roc_auc_score, roc_curve, confusion_matrix,  # ROC and confusion matrix\n",
        "    classification_report  # Summary table\n",
        ")\n",
        "\n",
        "# =============================================================================\n",
        "# Load processed dataset (created from 100k stratified sample in 01 ETL.ipynb)\n",
        "# Display the shape of the dataframe\n",
        "\n",
        "df = pd.read_csv(\"data/processed/card_transdata_processed.csv\") # Load processed data\n",
        "\n",
        "df.shape # (rows, columns)\n"
      ]
    },
    {
      "cell_type": "code",
      "execution_count": 5,
      "metadata": {},
      "outputs": [
        {
          "data": {
            "text/html": [
              "<div>\n",
              "<style scoped>\n",
              "    .dataframe tbody tr th:only-of-type {\n",
              "        vertical-align: middle;\n",
              "    }\n",
              "\n",
              "    .dataframe tbody tr th {\n",
              "        vertical-align: top;\n",
              "    }\n",
              "\n",
              "    .dataframe thead th {\n",
              "        text-align: right;\n",
              "    }\n",
              "</style>\n",
              "<table border=\"1\" class=\"dataframe\">\n",
              "  <thead>\n",
              "    <tr style=\"text-align: right;\">\n",
              "      <th></th>\n",
              "      <th>distance_from_home</th>\n",
              "      <th>distance_from_last_transaction</th>\n",
              "      <th>ratio_to_median_purchase_price</th>\n",
              "      <th>repeat_retailer</th>\n",
              "      <th>used_chip</th>\n",
              "      <th>used_pin_number</th>\n",
              "      <th>online_order</th>\n",
              "      <th>fraud</th>\n",
              "      <th>log_distance_from_home</th>\n",
              "      <th>log_distance_from_last_transaction</th>\n",
              "      <th>log_ratio_to_median_purchase_price</th>\n",
              "      <th>log_distance_from_home_bin</th>\n",
              "      <th>log_purchase_price_bin</th>\n",
              "      <th>log_distance_from_last_transaction_bin</th>\n",
              "      <th>online_high_distance</th>\n",
              "      <th>online_chip_category</th>\n",
              "      <th>online_and_chip</th>\n",
              "    </tr>\n",
              "  </thead>\n",
              "  <tbody>\n",
              "    <tr>\n",
              "      <th>0</th>\n",
              "      <td>19.179396</td>\n",
              "      <td>0.178758</td>\n",
              "      <td>2.979353</td>\n",
              "      <td>1</td>\n",
              "      <td>0</td>\n",
              "      <td>0</td>\n",
              "      <td>1</td>\n",
              "      <td>0</td>\n",
              "      <td>3.004662</td>\n",
              "      <td>0.164461</td>\n",
              "      <td>1.381119</td>\n",
              "      <td>3</td>\n",
              "      <td>4</td>\n",
              "      <td>0</td>\n",
              "      <td>1</td>\n",
              "      <td>online_no_chip</td>\n",
              "      <td>0</td>\n",
              "    </tr>\n",
              "    <tr>\n",
              "      <th>1</th>\n",
              "      <td>47.192898</td>\n",
              "      <td>1.224832</td>\n",
              "      <td>0.293538</td>\n",
              "      <td>1</td>\n",
              "      <td>1</td>\n",
              "      <td>0</td>\n",
              "      <td>1</td>\n",
              "      <td>0</td>\n",
              "      <td>3.875212</td>\n",
              "      <td>0.799681</td>\n",
              "      <td>0.257381</td>\n",
              "      <td>4</td>\n",
              "      <td>0</td>\n",
              "      <td>2</td>\n",
              "      <td>1</td>\n",
              "      <td>online_with_chip</td>\n",
              "      <td>1</td>\n",
              "    </tr>\n",
              "    <tr>\n",
              "      <th>2</th>\n",
              "      <td>54.389043</td>\n",
              "      <td>5.290910</td>\n",
              "      <td>4.492304</td>\n",
              "      <td>1</td>\n",
              "      <td>1</td>\n",
              "      <td>0</td>\n",
              "      <td>0</td>\n",
              "      <td>0</td>\n",
              "      <td>4.014382</td>\n",
              "      <td>1.839106</td>\n",
              "      <td>1.703348</td>\n",
              "      <td>4</td>\n",
              "      <td>4</td>\n",
              "      <td>4</td>\n",
              "      <td>0</td>\n",
              "      <td>offline_with_chip</td>\n",
              "      <td>0</td>\n",
              "    </tr>\n",
              "    <tr>\n",
              "      <th>3</th>\n",
              "      <td>3.129745</td>\n",
              "      <td>0.607212</td>\n",
              "      <td>0.357527</td>\n",
              "      <td>1</td>\n",
              "      <td>0</td>\n",
              "      <td>0</td>\n",
              "      <td>1</td>\n",
              "      <td>0</td>\n",
              "      <td>1.418216</td>\n",
              "      <td>0.474501</td>\n",
              "      <td>0.305665</td>\n",
              "      <td>1</td>\n",
              "      <td>0</td>\n",
              "      <td>1</td>\n",
              "      <td>0</td>\n",
              "      <td>online_no_chip</td>\n",
              "      <td>0</td>\n",
              "    </tr>\n",
              "    <tr>\n",
              "      <th>4</th>\n",
              "      <td>0.925275</td>\n",
              "      <td>2.238057</td>\n",
              "      <td>0.684942</td>\n",
              "      <td>0</td>\n",
              "      <td>0</td>\n",
              "      <td>0</td>\n",
              "      <td>0</td>\n",
              "      <td>0</td>\n",
              "      <td>0.655069</td>\n",
              "      <td>1.174974</td>\n",
              "      <td>0.521731</td>\n",
              "      <td>0</td>\n",
              "      <td>1</td>\n",
              "      <td>3</td>\n",
              "      <td>0</td>\n",
              "      <td>offline_no_chip</td>\n",
              "      <td>0</td>\n",
              "    </tr>\n",
              "  </tbody>\n",
              "</table>\n",
              "</div>"
            ],
            "text/plain": [
              "   distance_from_home  distance_from_last_transaction  \\\n",
              "0           19.179396                        0.178758   \n",
              "1           47.192898                        1.224832   \n",
              "2           54.389043                        5.290910   \n",
              "3            3.129745                        0.607212   \n",
              "4            0.925275                        2.238057   \n",
              "\n",
              "   ratio_to_median_purchase_price  repeat_retailer  used_chip  \\\n",
              "0                        2.979353                1          0   \n",
              "1                        0.293538                1          1   \n",
              "2                        4.492304                1          1   \n",
              "3                        0.357527                1          0   \n",
              "4                        0.684942                0          0   \n",
              "\n",
              "   used_pin_number  online_order  fraud  log_distance_from_home  \\\n",
              "0                0             1      0                3.004662   \n",
              "1                0             1      0                3.875212   \n",
              "2                0             0      0                4.014382   \n",
              "3                0             1      0                1.418216   \n",
              "4                0             0      0                0.655069   \n",
              "\n",
              "   log_distance_from_last_transaction  log_ratio_to_median_purchase_price  \\\n",
              "0                            0.164461                            1.381119   \n",
              "1                            0.799681                            0.257381   \n",
              "2                            1.839106                            1.703348   \n",
              "3                            0.474501                            0.305665   \n",
              "4                            1.174974                            0.521731   \n",
              "\n",
              "   log_distance_from_home_bin  log_purchase_price_bin  \\\n",
              "0                           3                       4   \n",
              "1                           4                       0   \n",
              "2                           4                       4   \n",
              "3                           1                       0   \n",
              "4                           0                       1   \n",
              "\n",
              "   log_distance_from_last_transaction_bin  online_high_distance  \\\n",
              "0                                       0                     1   \n",
              "1                                       2                     1   \n",
              "2                                       4                     0   \n",
              "3                                       1                     0   \n",
              "4                                       3                     0   \n",
              "\n",
              "  online_chip_category  online_and_chip  \n",
              "0       online_no_chip                0  \n",
              "1     online_with_chip                1  \n",
              "2    offline_with_chip                0  \n",
              "3       online_no_chip                0  \n",
              "4      offline_no_chip                0  "
            ]
          },
          "execution_count": 5,
          "metadata": {},
          "output_type": "execute_result"
        }
      ],
      "source": [
        "df.head() # Display first few rows of the dataframe"
      ]
    },
    {
      "cell_type": "markdown",
      "metadata": {},
      "source": [
        "# Section 1.1: Data Validation and Preparation\n",
        "\n",
        "## Class Balance Verification\n",
        "\n",
        "**Purpose:** Verify that the dataset maintains the expected fraud rate (8.74%) from the stratified sampling performed in the ETL pipeline.\n",
        "\n",
        "**Expected Outcome:**\n",
        "- Fraud rate: 8.74% \n",
        "- Non-fraud rate: 91.26%\n",
        "- Imbalance ratio: approximately 1:10.4 (non-fraud to fraud)\n",
        "\n",
        "## Feature and Target Split\n",
        "\n",
        "**Purpose:** Prepare the dataset for modeling by separating features (X) and target variable (y).\n",
        "\n",
        "**Dataset Composition:**\n",
        "The dataset contains 17 columns total, split into features and target:\n",
        "\n",
        "**Excluded Features from Modelling:**\n",
        "\n",
        "1. **fraud** - Target variable (what we're predicting)\n",
        "\n",
        "2. **online_chip_category** - String categorical variable\n",
        "   - Contains labels: \"online_no_chip\", \"online_chip\", \"offline_no_chip\", \"offline_chip\"\n",
        "   - Redundant: underlying binary features (online_order and used_chip) already included\n",
        "   - Created for hypothesis testing visualisation (H8) only\n",
        "\n",
        "3. **Binned Variables** - Created for EDA visualisation only:\n",
        "   - log_distance_from_home_bin - Categorical distance ranges\n",
        "   - log_purchase_price_bin - Categorical price ratio ranges  \n",
        "   - log_distance_from_last_transaction_bin - Categorical transaction distance ranges\n",
        "   \n",
        "   **Why excluded:** Binning loses information; continuous and log-transformed versions provide superior predictive power for models\n",
        "\n",
        "**Features Retained**\n",
        "\n",
        "**Original Features:**\n",
        "- distance_from_home - Geographic distance from customer's home address (km)\n",
        "- distance_from_last_transaction - Distance from previous transaction location (km)\n",
        "- ratio_to_median_purchase_price - Current purchase relative to customer's median spending\n",
        "- repeat_retailer - Whether customer previously transacted with retailer (binary: 0/1)\n",
        "- used_chip - Chip card authentication used (binary: 0/1)\n",
        "- used_pin_number - PIN verification used (binary: 0/1)\n",
        "- online_order - Transaction channel: online vs in-store (binary: 0/1)\n",
        "\n",
        "**Log-Transformed Features:**\n",
        "- log_distance_from_home- Reduces right skew in distance distribution\n",
        "- log_distance_from_last_transaction - Handles extreme distance outliers\n",
        "- log_ratio_to_median_purchase_price - Normalises purchase ratio distribution\n",
        "\n",
        "*Rationale: Both original and log-transformed versions retained. Tree-based models (Random Forest, XGBoost) can select the most predictive representation through natural feature selection.*\n",
        "\n",
        "**Engineered Interaction Features:**\n",
        "- online_high_distance - Binary flag: online transaction far from home (combines channel + distance risk)\n",
        "- online_and_chip - Binary flag: online transaction using chip authentication\n",
        "\n",
        "**Output:**\n",
        "- **X**: Feature matrix (n_samples × 12 features) - all numeric predictors\n",
        "- **y**: Binary target vector (n_samples) - fraud indicator (0 = legitimate, 1 = fraud)\n",
        "\n",
        "**Feature Strategy:**\n",
        "This approach balances information richness with model efficiency:\n",
        "- Retains both raw and transformed features for model flexibility\n",
        "- Excludes redundant encoded categories\n",
        "- Removes low-information binned variables\n",
        "- Total of 12 features provides sufficient signal without overfitting risk"
      ]
    },
    {
      "cell_type": "code",
      "execution_count": 7,
      "metadata": {},
      "outputs": [
        {
          "name": "stdout",
          "output_type": "stream",
          "text": [
            "Fraud rate: 8.74% (8,740 fraud cases out of 100,000 total transactions)\n",
            "✓ Class balance verified: matches expected rate (8.74%)\n",
            "Imbalance ratio: 1:10.4 (non-fraud : fraud)\n",
            "\n",
            "==========================================================================================\n",
            "\n",
            "Feature matrix (X) shape: 100,000 samples x 12 features\n",
            "Target vector (y) shape: 100,000 samples\n",
            "\n",
            "Target distribution:\n",
            "  Class 0 (legitimate): 91,260 (91.26%)\n",
            "  Class 1 (fraud):      8,740 (8.74%)\n",
            "\n",
            "==========================================================================================\n",
            "Features Included in Modelling:\n",
            "==========================================================================================\n",
            "\n",
            "Original Features (7 from dataset):\n",
            "  distance_from_home\n",
            "  distance_from_last_transaction\n",
            "  ratio_to_median_purchase_price\n",
            "  repeat_retailer\n",
            "  used_chip\n",
            "  used_pin_number\n",
            "  online_order\n",
            "\n",
            "Log-Transformed Features (3 engineered for skew reduction):\n",
            "  log_distance_from_home\n",
            "  log_distance_from_last_transaction\n",
            "  log_ratio_to_median_purchase_price\n",
            "\n",
            "Interaction Features (2 engineered for domain insights):\n",
            "  online_high_distance\n",
            "  online_and_chip\n",
            "\n",
            "Total: 12 features\n",
            "\n",
            "==========================================================================================\n",
            "\n"
          ]
        }
      ],
      "source": [
        "# =============================================================================\n",
        "# DATA VALIDATION AND PREPARATION\n",
        "# =============================================================================\n",
        "# Validates class balance and prepares features for modeling\n",
        "# Ensures dataset integrity before model training begins\n",
        "# =============================================================================\n",
        "\n",
        "# ─────────────────────────────────────────────────────────────────────────────\n",
        "# Class Balance Verification\n",
        "# ─────────────────────────────────────────────────────────────────────────────\n",
        "# Confirm fraud rate matches expected 8.74% from stratified sampling in ETL\n",
        "# Any mismatch indicates potential data loading or processing errors\n",
        "\n",
        "# Calculate fraud statistics\n",
        "fraud_count = int(df['fraud'].sum())        # Total number of fraudulent transactions\n",
        "fraud_rate = df['fraud'].mean()             # Proportion of fraud (0 to 1)\n",
        "total_rows = df.shape[0]                    # Total number of transactions\n",
        "\n",
        "# Display fraud distribution clearly\n",
        "print(f\"Fraud rate: {fraud_rate:.2%} ({fraud_count:,} fraud cases out of {total_rows:,} total transactions)\")\n",
        "\n",
        "# ─────────────────────────────────────────────────────────────────────────────\n",
        "# Verify against expected rate from ETL pipeline\n",
        "# ─────────────────────────────────────────────────────────────────────────────\n",
        "# Expected rate comes from sample_log.json created during stratified sampling\n",
        "expected_fraud_rate = 0.0874  # 8.74% fraud rate from ETL stratified sampling\n",
        "rate_difference = abs(fraud_rate - expected_fraud_rate)  # Absolute difference\n",
        "\n",
        "# Check if observed rate matches expected (allow tiny floating point errors)\n",
        "if rate_difference < 0.0001:\n",
        "    print(f\"✓ Class balance verified: matches expected rate ({expected_fraud_rate:.2%})\")\n",
        "else:\n",
        "    print(f\"Issue: Fraud rate {fraud_rate:.4%} differs from expected {expected_fraud_rate:.2%}\")\n",
        "    print(f\"  Difference: {rate_difference:.4%}\")\n",
        "\n",
        "# Calculate and display imbalance ratio\n",
        "imbalance_ratio = (1 - fraud_rate) / fraud_rate  # Ratio of non-fraud to fraud\n",
        "print(f\"Imbalance ratio: 1:{imbalance_ratio:.1f} (non-fraud : fraud)\")\n",
        "\n",
        "print(\"\\n\" + \"=\"*90 + \"\\n\")\n",
        "\n",
        "# ─────────────────────────────────────────────────────────────────────────────\n",
        "# Feature and Target Split\n",
        "# ─────────────────────────────────────────────────────────────────────────────\n",
        "# Separate features (X) from target variable (y)\n",
        "# Exclude features that cannot be used for modeling\n",
        "\n",
        "target = \"fraud\"  # Target variable name\n",
        "\n",
        "# Define columns to exclude from feature matrix\n",
        "# These are either:\n",
        "# 1. The target variable itself\n",
        "# 2. String categorical variables created for EDA visualization\n",
        "# 3. Binned variables created for hypothesis testing/visualization only\n",
        "exclude_cols = [\n",
        "    target,                                      # Target variable (what we're predicting)\n",
        "    'online_chip_category',                      # String labels: \"online_no_chip\", \"online_chip\", etc.\n",
        "                                                 # (underlying features online_order + used_chip already included)\n",
        "    'log_distance_from_home_bin',                # Categorical bins for EDA (continuous log_distance_from_home included)\n",
        "    'log_purchase_price_bin',                    # Categorical bins for EDA (continuous log_ratio_to_median_purchase_price included)\n",
        "    'log_distance_from_last_transaction_bin'     # Categorical bins for EDA (continuous log_distance_from_last_transaction included)\n",
        "]\n",
        "\n",
        "# Create feature matrix X (drop excluded columns if they exist)\n",
        "X = df.drop(columns=[col for col in exclude_cols if col in df.columns])\n",
        "\n",
        "# Create target vector y (ensure binary encoding: 0 or 1)\n",
        "y = df[target].astype(int)  # 0 = legitimate transaction, 1 = fraudulent transaction\n",
        "\n",
        "# Display shape and confirmation\n",
        "print(f\"Feature matrix (X) shape: {X.shape[0]:,} samples x {X.shape[1]} features\")\n",
        "print(f\"Target vector (y) shape: {y.shape[0]:,} samples\")\n",
        "print(f\"\\nTarget distribution:\")\n",
        "print(f\"  Class 0 (legitimate): {(y == 0).sum():,} ({(y == 0).mean():.2%})\")\n",
        "print(f\"  Class 1 (fraud):      {(y == 1).sum():,} ({(y == 1).mean():.2%})\")\n",
        "\n",
        "# ─────────────────────────────────────────────────────────────────────────────\n",
        "# Display features included in modeling\n",
        "# ─────────────────────────────────────────────────────────────────────────────\n",
        "print(f\"\\n{'='*90}\")\n",
        "print(\"Features Included in Modelling:\")\n",
        "print(f\"{'='*90}\\n\")\n",
        "\n",
        "print(\"Original Features (7 from dataset):\")\n",
        "print(\"  distance_from_home\")\n",
        "print(\"  distance_from_last_transaction\")\n",
        "print(\"  ratio_to_median_purchase_price\")\n",
        "print(\"  repeat_retailer\")\n",
        "print(\"  used_chip\")\n",
        "print(\"  used_pin_number\")\n",
        "print(\"  online_order\")\n",
        "\n",
        "print(\"\\nLog-Transformed Features (3 engineered for skew reduction):\")\n",
        "print(\"  log_distance_from_home\")\n",
        "print(\"  log_distance_from_last_transaction\")\n",
        "print(\"  log_ratio_to_median_purchase_price\")\n",
        "\n",
        "print(\"\\nInteraction Features (2 engineered for domain insights):\")\n",
        "print(\"  online_high_distance\")\n",
        "print(\"  online_and_chip\")\n",
        "\n",
        "print(f\"\\nTotal: {X.shape[1]} features\")\n",
        "print(f\"\\n{'='*90}\\n\")"
      ]
    },
    {
      "cell_type": "markdown",
      "metadata": {
        "id": "ZY3l0-AxO93d"
      },
      "source": [
        "---"
      ]
    },
    {
      "cell_type": "markdown",
      "metadata": {
        "id": "uFQo3ycuO-v6"
      },
      "source": [
        "# Section 2: Data Splitting and Class Balance"
      ]
    },
    {
      "cell_type": "markdown",
      "metadata": {},
      "source": [
        "---"
      ]
    }
  ],
  "metadata": {
    "accelerator": "GPU",
    "colab": {
      "name": "Data Practitioner Jupyter Notebook.ipynb",
      "provenance": [],
      "toc_visible": true
    },
    "kernelspec": {
      "display_name": "Python 3",
      "language": "python",
      "name": "python3"
    },
    "language_info": {
      "codemirror_mode": {
        "name": "ipython",
        "version": 3
      },
      "file_extension": ".py",
      "mimetype": "text/x-python",
      "name": "python",
      "nbconvert_exporter": "python",
      "pygments_lexer": "ipython3",
      "version": "3.12.8"
    },
    "orig_nbformat": 2
  },
  "nbformat": 4,
  "nbformat_minor": 2
}
