{
  "cells": [
    {
      "cell_type": "markdown",
      "metadata": {
        "id": "0aStgWSO0E0E"
      },
      "source": [
        "# **Extract, Load and Transform Data**"
      ]
    },
    {
      "cell_type": "markdown",
      "metadata": {
        "id": "1eLEkw5O0ECa"
      },
      "source": [
        "## Objectives\n",
        "\n",
        "* Extract and prepare the Kaggle synthetic credit card transactions dataset for analysis and modelling. Specifically:\n",
        "    - Validate dataset structure.\n",
        "    - Perform exploratory quality checks (missing values, duplicates, ranges).\n",
        "    - Clean and standardise data.\n",
        "    - Engineer features to improve interpretability and model performance.\n",
        "\n",
        "## Inputs\n",
        "\n",
        "* Sampled Kaggle Credit Card Fraud Dataset data/raw/card_transdata_sample_100k.csv (this was produced from full dataset downloaded from https://www.kaggle.com/datasets/dhanushnarayananr/credit-card-fraud/data/code).\n",
        "\n",
        "**What this notebook does**\n",
        "- Load and inspect the sampled dataset.\n",
        "- Conduct data quality checks (missing values, duplicates, range validation).\n",
        "- Clean and standardise variables, ensuring binary features are integer-encoded.\n",
        "- Explore continuous feature distributions and detect skew/outliers.\n",
        "- Perform feature engineering:\n",
        "    - Log-transform skewed continuous variables.\n",
        "    - Bin continuous variables into categories.\n",
        "    - Create interaction and cross-features capturing potential fraud risk patterns.\n",
        "- Export a cleaned, feature enhanced dataset for use in modelling and EDA notebooks.\n",
        "\n",
        "## Outputs\n",
        "- Processed dataset to data\\processed\\card_transdata_processed.csv for use in:\n",
        "    - 02_EDA.ipynb (Exploratory Data Analysis Notebook)\n",
        "    - 03_Modelling.ipynb (Modelling and Evaluation Notebook)"
      ]
    },
    {
      "cell_type": "markdown",
      "metadata": {
        "id": "9uWZXH9LwoQg"
      },
      "source": [
        "---"
      ]
    },
    {
      "cell_type": "markdown",
      "metadata": {
        "id": "cqP-UeN-z3i2"
      },
      "source": [
        "# Change working directory"
      ]
    },
    {
      "cell_type": "markdown",
      "metadata": {},
      "source": [
        "I need to change the working directory from the current folder to its parent folder (required because the notebook is being run from inside the jupyter notebooks subfolder). In the code below, I change the working directory from its current folder to its parent folder.  \n",
        "* I access the current directory with os.getcwd()"
      ]
    },
    {
      "cell_type": "code",
      "execution_count": 1,
      "metadata": {
        "id": "wZfF_j-Bz3i4",
        "outputId": "66943449-1436-4c3d-85c7-b85f9f78349b"
      },
      "outputs": [
        {
          "data": {
            "text/plain": [
              "'c:\\\\DA_Capstone\\\\Credit-Card-Fraud-Analysis\\\\jupyter_notebooks'"
            ]
          },
          "execution_count": 1,
          "metadata": {},
          "output_type": "execute_result"
        }
      ],
      "source": [
        "import os\n",
        "current_dir = os.getcwd()\n",
        "current_dir"
      ]
    },
    {
      "cell_type": "markdown",
      "metadata": {
        "id": "9MWW8E7lz3i7"
      },
      "source": [
        "We want to make the parent of the current directory the new current directory\n",
        "* os.path.dirname() gets the parent directory\n",
        "* os.chdir() defines the new current directory"
      ]
    },
    {
      "cell_type": "code",
      "execution_count": 2,
      "metadata": {
        "id": "TwHsQRWjz3i9",
        "outputId": "86849db3-cd2f-4cc5-ebb8-2d0caafa1a2c"
      },
      "outputs": [
        {
          "name": "stdout",
          "output_type": "stream",
          "text": [
            "You set a new current directory\n"
          ]
        }
      ],
      "source": [
        "os.chdir(os.path.dirname(current_dir))\n",
        "print(\"You set a new current directory\")"
      ]
    },
    {
      "cell_type": "markdown",
      "metadata": {
        "id": "M_xPk_Ijz3i-"
      },
      "source": [
        "Confirm the new current directory"
      ]
    },
    {
      "cell_type": "code",
      "execution_count": 3,
      "metadata": {
        "id": "vz3S-_kjz3jA",
        "outputId": "00b79ae4-75d0-4a96-d193-ac9ef9847ea2"
      },
      "outputs": [
        {
          "data": {
            "text/plain": [
              "'c:\\\\DA_Capstone\\\\Credit-Card-Fraud-Analysis'"
            ]
          },
          "execution_count": 3,
          "metadata": {},
          "output_type": "execute_result"
        }
      ],
      "source": [
        "current_dir = os.getcwd()\n",
        "current_dir"
      ]
    },
    {
      "cell_type": "markdown",
      "metadata": {
        "id": "-mavJ8DibrcQ"
      },
      "source": [
        "---\n",
        "# Section 1: Data Load (100k Sample)\n",
        "**About the Dataset:**\n",
        "\n",
        "This notebook works with a pre-created stratified sample of 100,000 rows from a larger synthetic credit card fraud dataset (originally 1M rows). The sample preserves the fraud class balance (8.74% fraud rate) and was created using stratified sampling.\n",
        "\n",
        "**Sample Creation Details:**\n",
        "- Original dataset: 1,000,000 rows, 87,403 fraud cases (8.74%)\n",
        "- Sample dataset: 100,000 rows, 8,740 fraud cases (8.74%)\n",
        "- Method: Stratified sampling via sklearn.model_selection.train_test_split\n",
        "- Random seed: 42 (for reproducibility)\n",
        "- Validation: data/raw/sample_log.json (for full metadata)\n",
        "\n",
        "**In this section:**\n",
        "- Load the 100k stratified sample from data/raw/card_transdata_sample_100k.csv\n",
        "- Conduct basic shape and structure checks\n",
        "- Verify fraud rate matches the rate expected from sample metadata file (8.74%)\n",
        "- check imbalance ratio \n",
        "\n",
        "**Results:**\n",
        "- Dataframe loads and shape as expected: 100,000 rows × 8 columns\n",
        "- First 5 rows loads and displays as expected\n",
        "- Fraud rate matches - 8.74% (and this matches rate in sample metadata file)\n",
        "- Imbalance ratio is 1:10.4 (non-fraud to fraud)"
      ]
    },
    {
      "cell_type": "markdown",
      "metadata": {},
      "source": [
        "Section 1 content"
      ]
    },
    {
      "cell_type": "code",
      "execution_count": 4,
      "metadata": {},
      "outputs": [
        {
          "data": {
            "text/plain": [
              "(100000, 8)"
            ]
          },
          "execution_count": 4,
          "metadata": {},
          "output_type": "execute_result"
        }
      ],
      "source": [
        "# Load libraries and the 100k stratified sample dataset\n",
        "\n",
        "# Core file handling libraries\n",
        "from pathlib import Path # load the pathlib library\n",
        "import json # for reading sample metadata\n",
        "\n",
        "# Data manipulation and analysis libraries\n",
        "import numpy as np # load the numpy library\n",
        "import pandas as pd # load the pandas library\n",
        "\n",
        "# Data visualisation libraries\n",
        "import matplotlib.pyplot as plt # load the matplotlib library\n",
        "import seaborn as sns # load the seaborn library\n",
        "\n",
        "\n",
        "# load the 100k stratified sample dataset\n",
        "df = pd.read_csv('data/raw/card_transdata_sample_100k.csv') # load the dataset\n",
        "\n",
        "df.shape # display the shape of the dataframe\n"
      ]
    },
    {
      "cell_type": "code",
      "execution_count": null,
      "metadata": {},
      "outputs": [
        {
          "data": {
            "text/html": [
              "<div>\n",
              "<style scoped>\n",
              "    .dataframe tbody tr th:only-of-type {\n",
              "        vertical-align: middle;\n",
              "    }\n",
              "\n",
              "    .dataframe tbody tr th {\n",
              "        vertical-align: top;\n",
              "    }\n",
              "\n",
              "    .dataframe thead th {\n",
              "        text-align: right;\n",
              "    }\n",
              "</style>\n",
              "<table border=\"1\" class=\"dataframe\">\n",
              "  <thead>\n",
              "    <tr style=\"text-align: right;\">\n",
              "      <th></th>\n",
              "      <th>distance_from_home</th>\n",
              "      <th>distance_from_last_transaction</th>\n",
              "      <th>ratio_to_median_purchase_price</th>\n",
              "      <th>repeat_retailer</th>\n",
              "      <th>used_chip</th>\n",
              "      <th>used_pin_number</th>\n",
              "      <th>online_order</th>\n",
              "      <th>fraud</th>\n",
              "    </tr>\n",
              "  </thead>\n",
              "  <tbody>\n",
              "    <tr>\n",
              "      <th>0</th>\n",
              "      <td>19.179396</td>\n",
              "      <td>0.178758</td>\n",
              "      <td>2.979353</td>\n",
              "      <td>1.0</td>\n",
              "      <td>0.0</td>\n",
              "      <td>0.0</td>\n",
              "      <td>1.0</td>\n",
              "      <td>0.0</td>\n",
              "    </tr>\n",
              "    <tr>\n",
              "      <th>1</th>\n",
              "      <td>47.192898</td>\n",
              "      <td>1.224832</td>\n",
              "      <td>0.293538</td>\n",
              "      <td>1.0</td>\n",
              "      <td>1.0</td>\n",
              "      <td>0.0</td>\n",
              "      <td>1.0</td>\n",
              "      <td>0.0</td>\n",
              "    </tr>\n",
              "    <tr>\n",
              "      <th>2</th>\n",
              "      <td>54.389043</td>\n",
              "      <td>5.290910</td>\n",
              "      <td>4.492304</td>\n",
              "      <td>1.0</td>\n",
              "      <td>1.0</td>\n",
              "      <td>0.0</td>\n",
              "      <td>0.0</td>\n",
              "      <td>0.0</td>\n",
              "    </tr>\n",
              "    <tr>\n",
              "      <th>3</th>\n",
              "      <td>3.129745</td>\n",
              "      <td>0.607212</td>\n",
              "      <td>0.357527</td>\n",
              "      <td>1.0</td>\n",
              "      <td>0.0</td>\n",
              "      <td>0.0</td>\n",
              "      <td>1.0</td>\n",
              "      <td>0.0</td>\n",
              "    </tr>\n",
              "    <tr>\n",
              "      <th>4</th>\n",
              "      <td>0.925275</td>\n",
              "      <td>2.238057</td>\n",
              "      <td>0.684942</td>\n",
              "      <td>0.0</td>\n",
              "      <td>0.0</td>\n",
              "      <td>0.0</td>\n",
              "      <td>0.0</td>\n",
              "      <td>0.0</td>\n",
              "    </tr>\n",
              "  </tbody>\n",
              "</table>\n",
              "</div>"
            ],
            "text/plain": [
              "   distance_from_home  distance_from_last_transaction  \\\n",
              "0           19.179396                        0.178758   \n",
              "1           47.192898                        1.224832   \n",
              "2           54.389043                        5.290910   \n",
              "3            3.129745                        0.607212   \n",
              "4            0.925275                        2.238057   \n",
              "\n",
              "   ratio_to_median_purchase_price  repeat_retailer  used_chip  \\\n",
              "0                        2.979353              1.0        0.0   \n",
              "1                        0.293538              1.0        1.0   \n",
              "2                        4.492304              1.0        1.0   \n",
              "3                        0.357527              1.0        0.0   \n",
              "4                        0.684942              0.0        0.0   \n",
              "\n",
              "   used_pin_number  online_order  fraud  \n",
              "0              0.0           1.0    0.0  \n",
              "1              0.0           1.0    0.0  \n",
              "2              0.0           0.0    0.0  \n",
              "3              0.0           1.0    0.0  \n",
              "4              0.0           0.0    0.0  "
            ]
          },
          "execution_count": 5,
          "metadata": {},
          "output_type": "execute_result"
        }
      ],
      "source": [
        "df.head() # display the first 5 rows of the dataframe "
      ]
    },
    {
      "cell_type": "code",
      "execution_count": null,
      "metadata": {},
      "outputs": [
        {
          "name": "stdout",
          "output_type": "stream",
          "text": [
            "Fraud rate: 8.74% (8740 fraud cases out of 100000 total transactions)\n"
          ]
        }
      ],
      "source": [
        "\n",
        "# Display fraud rate and counts clearly\n",
        "fraud_count = int(df['fraud'].sum()) # count the number of fraud cases\n",
        "fraud_rate = df['fraud'].mean() # calculate the fraud rate\n",
        "total_rows = df.shape[0] # get the total number of transactions\n",
        "print(f\"Fraud rate: {fraud_rate:.2%} ({fraud_count} fraud cases out of {total_rows} total transactions)\") # display fraud rate and counts clearly"
      ]
    },
    {
      "cell_type": "markdown",
      "metadata": {
        "id": "ZY3l0-AxO93d"
      },
      "source": [
        "---"
      ]
    },
    {
      "cell_type": "markdown",
      "metadata": {
        "id": "uFQo3ycuO-v6"
      },
      "source": [
        "# Section 2: Data Structure and Quality Check\n",
        "\n",
        "Basic data and structure information checks conduted in code cells below for the 100k stratified sample:\n",
        "- Checked dataframe shape Shape\n",
        "- Checked Dtypes\n",
        "- Checked Missing values\n",
        "- Checked for Duplicates\n",
        "\n",
        "**Continuous Variables** (high cardinality - as expected for continuous features):\n",
        "- distance_from_home\n",
        "- distance_from_last_transaction\n",
        "- ratio_to_median_purchase_price \n",
        "\n",
        "**Binary Variables** (2 unique values - encoded as 0/1 floats):\n",
        "- repeat_retailer\n",
        "- used_chip\n",
        "- used_pin_number\n",
        "- online_order\n",
        "- fraud (target variable)\n",
        "\n",
        "**Data Quality:**\n",
        "- Dataframe is 100,000 rows by 8 columns\n",
        "- No missing values detected\n",
        "- No duplicate rows\n",
        "- Binary features stored as float64 (will convert to int for efficiency)\n",
        "- Continuous features need distribution and outlier analysis"
      ]
    },
    {
      "cell_type": "markdown",
      "metadata": {},
      "source": [
        "Section 2 content"
      ]
    },
    {
      "cell_type": "code",
      "execution_count": 7,
      "metadata": {},
      "outputs": [
        {
          "name": "stdout",
          "output_type": "stream",
          "text": [
            "\n",
            "Column information:\n"
          ]
        },
        {
          "data": {
            "text/html": [
              "<div>\n",
              "<style scoped>\n",
              "    .dataframe tbody tr th:only-of-type {\n",
              "        vertical-align: middle;\n",
              "    }\n",
              "\n",
              "    .dataframe tbody tr th {\n",
              "        vertical-align: top;\n",
              "    }\n",
              "\n",
              "    .dataframe thead th {\n",
              "        text-align: right;\n",
              "    }\n",
              "</style>\n",
              "<table border=\"1\" class=\"dataframe\">\n",
              "  <thead>\n",
              "    <tr style=\"text-align: right;\">\n",
              "      <th></th>\n",
              "      <th>Data Type</th>\n",
              "      <th>Non-Null Count</th>\n",
              "      <th>Missing Values</th>\n",
              "      <th>missing_pct</th>\n",
              "      <th>Unique Values</th>\n",
              "    </tr>\n",
              "  </thead>\n",
              "  <tbody>\n",
              "    <tr>\n",
              "      <th>distance_from_home</th>\n",
              "      <td>float64</td>\n",
              "      <td>100000</td>\n",
              "      <td>0</td>\n",
              "      <td>0.0</td>\n",
              "      <td>100000</td>\n",
              "    </tr>\n",
              "    <tr>\n",
              "      <th>distance_from_last_transaction</th>\n",
              "      <td>float64</td>\n",
              "      <td>100000</td>\n",
              "      <td>0</td>\n",
              "      <td>0.0</td>\n",
              "      <td>100000</td>\n",
              "    </tr>\n",
              "    <tr>\n",
              "      <th>ratio_to_median_purchase_price</th>\n",
              "      <td>float64</td>\n",
              "      <td>100000</td>\n",
              "      <td>0</td>\n",
              "      <td>0.0</td>\n",
              "      <td>100000</td>\n",
              "    </tr>\n",
              "    <tr>\n",
              "      <th>repeat_retailer</th>\n",
              "      <td>float64</td>\n",
              "      <td>100000</td>\n",
              "      <td>0</td>\n",
              "      <td>0.0</td>\n",
              "      <td>2</td>\n",
              "    </tr>\n",
              "    <tr>\n",
              "      <th>used_chip</th>\n",
              "      <td>float64</td>\n",
              "      <td>100000</td>\n",
              "      <td>0</td>\n",
              "      <td>0.0</td>\n",
              "      <td>2</td>\n",
              "    </tr>\n",
              "    <tr>\n",
              "      <th>used_pin_number</th>\n",
              "      <td>float64</td>\n",
              "      <td>100000</td>\n",
              "      <td>0</td>\n",
              "      <td>0.0</td>\n",
              "      <td>2</td>\n",
              "    </tr>\n",
              "    <tr>\n",
              "      <th>online_order</th>\n",
              "      <td>float64</td>\n",
              "      <td>100000</td>\n",
              "      <td>0</td>\n",
              "      <td>0.0</td>\n",
              "      <td>2</td>\n",
              "    </tr>\n",
              "    <tr>\n",
              "      <th>fraud</th>\n",
              "      <td>float64</td>\n",
              "      <td>100000</td>\n",
              "      <td>0</td>\n",
              "      <td>0.0</td>\n",
              "      <td>2</td>\n",
              "    </tr>\n",
              "  </tbody>\n",
              "</table>\n",
              "</div>"
            ],
            "text/plain": [
              "                               Data Type  Non-Null Count  Missing Values  \\\n",
              "distance_from_home               float64          100000               0   \n",
              "distance_from_last_transaction   float64          100000               0   \n",
              "ratio_to_median_purchase_price   float64          100000               0   \n",
              "repeat_retailer                  float64          100000               0   \n",
              "used_chip                        float64          100000               0   \n",
              "used_pin_number                  float64          100000               0   \n",
              "online_order                     float64          100000               0   \n",
              "fraud                            float64          100000               0   \n",
              "\n",
              "                                missing_pct  Unique Values  \n",
              "distance_from_home                      0.0         100000  \n",
              "distance_from_last_transaction          0.0         100000  \n",
              "ratio_to_median_purchase_price          0.0         100000  \n",
              "repeat_retailer                         0.0              2  \n",
              "used_chip                               0.0              2  \n",
              "used_pin_number                         0.0              2  \n",
              "online_order                            0.0              2  \n",
              "fraud                                   0.0              2  "
            ]
          },
          "execution_count": 7,
          "metadata": {},
          "output_type": "execute_result"
        }
      ],
      "source": [
        "#  Basic structure of the dataframe and quality check\n",
        "\n",
        "print(\"\\nColumn information:\") # write \"column information\" before next print output for clarity\n",
        "# Check data types, non-null counts and missing values and create summary table\n",
        "summary = (\n",
        "    pd.DataFrame({\n",
        "    'Data Type': df.dtypes, # data types\n",
        "    'Non-Null Count': df.notnull().sum(), # non-null counts\n",
        "    'Missing Values': df.isnull().sum(),\n",
        "   \"missing_pct\": (df.isna().mean()*100).round(3),  # percent missing NaN values per column \n",
        "    'Unique Values': df.nunique() # unique values\n",
        "})\n",
        ".sort_values(by='Missing Values', ascending=False) # sort by missing values\n",
        ")\n",
        "\n",
        "summary  # display the summary table"
      ]
    },
    {
      "cell_type": "markdown",
      "metadata": {},
      "source": [
        "**Duplicate Check:**\n",
        "\n",
        "Verify there are no duplicate rows in the sample (none found)."
      ]
    },
    {
      "cell_type": "code",
      "execution_count": 8,
      "metadata": {},
      "outputs": [
        {
          "name": "stdout",
          "output_type": "stream",
          "text": [
            "\n",
            "Number of duplicate rows: 0\n"
          ]
        }
      ],
      "source": [
        " # check for duplicate rows\n",
        "duplicate_rows = df.duplicated().sum() # count duplicate rows\n",
        "print(f\"\\nNumber of duplicate rows: {duplicate_rows}\") # adds text to the output stating number of duplicate rows for clarity"
      ]
    },
    {
      "cell_type": "markdown",
      "metadata": {},
      "source": [
        "---\n",
        "# Section 3: Range Validation\n",
        "Before analysis, key continuous variables are checked below to ensure the values are sensible and within expected limits. This step helps confirm there are no invalid or extreme values (such as negative distances or unrealistic ratios) that could distort analysis results.\n",
        "\n",
        "Results\n",
        "- The continuous variables show sensible value ranges with no negative or unrealistic values.\n",
        "    - distance_from_home spans roughly 0 to 5,798, consistent with local to long-distance transactions.\n",
        "    - ratio_to_median_purchase_price ranges from about 0.007 to 266.7, indicating occasional high-value purchases but no invalid entries.\n",
        "\n",
        "These results confirm that the dataset contains realistic transaction values suitable for further analysis.\n"
      ]
    },
    {
      "cell_type": "code",
      "execution_count": 9,
      "metadata": {},
      "outputs": [
        {
          "name": "stdout",
          "output_type": "stream",
          "text": [
            "\n",
            "Value Range Validation (Continuous Variables):\n",
            "--------------------------------------------------\n",
            "distance_from_home                 : min=   0.025, max=5797.973\n",
            "distance_from_last_transaction     : min=   0.000, max=4968.315\n",
            "ratio_to_median_purchase_price     : min=   0.007, max= 266.690\n",
            "\n",
            "Negative Value Counts (Continuous Variables):\n",
            "--------------------------------------------------\n",
            "\n",
            "All continuous variables have valid non-negative values\n"
          ]
        }
      ],
      "source": [
        "# Validate ranges are sensible for continuous variables\n",
        "print(\"\\nValue Range Validation (Continuous Variables):\") # adds text to output before the range validation for clarity\n",
        "print(\"-\" * 50) # --- separator line for clarity\n",
        "\n",
        "cont_cols = [\"distance_from_home\", \n",
        "             \"distance_from_last_transaction\", \n",
        "             \"ratio_to_median_purchase_price\"] # list of continuous variable columns\n",
        "\n",
        "for col in cont_cols:\n",
        "    min_val = df[col].min() # calculate minimum value\n",
        "    max_val = df[col].max() # calculate maximum value\n",
        "    print(f\"{col:35s}: min={min_val:8.3f}, max={max_val:8.3f}\") # formatted print for clarity\n",
        "\n",
        "# Check for any negative values (should be none)\n",
        "negative_counts = (df[cont_cols] < 0).sum() # count negative values in continuous variables\n",
        "print(\"\\nNegative Value Counts (Continuous Variables):\") # adds text to output before the negative value counts for clarity\n",
        "print(\"-\" * 50) # --- separator line for clarity\n",
        "if negative_counts.sum() > 0: # if there are any negative values\n",
        "    print(negative_counts[negative_counts > 0]) # display counts of negative values\n",
        "else:\n",
        "    print(\"\\nAll continuous variables have valid non-negative values\") # confirmation message if no negative values"
      ]
    },
    {
      "cell_type": "markdown",
      "metadata": {},
      "source": [
        "---\n",
        "# Section 4: Descriptive Statistics\n",
        "**Aim**\n",
        "\n",
        "To get an initial sense of the dataset by reviewing averages, middle values, variation, and any obvious extremes before conducting more detailed plots.\n",
        "\n",
        "**Approach**\n",
        "\n",
        "df.describe() was used to generate summary statistics for the numeric variables. Adding include=\"all\" includes non-numeric (categorical and object) columns in the summary, providing a more complete overview of the dataset. This summary displays key statistics such as the mean (average), median (middle point), standard deviation (spread of values), and percentiles (positions within the distribution).\n",
        "\n",
        "These checks are important because they highlight whether the data is balanced, skewed, or contains unusual values. For example:\n",
        "- distance_from_home has a mean of 26.68 but a median of 9.94, suggesting the distribution is right-skewed, with a few very large distances pulling the mean upwards.\n",
        "- Binary features such as chip, PIN, and repeat_retailer contain only 0s and 1s as expected (though currently stored as floats).\n",
        "\n",
        "**Key Insights from Results**\n",
        "- Continuous features show large ranges and strong skewness, which will require careful treatment (e.g., log transforms or binning) in later stages.\n",
        "- Binary features appear consistent and clean, confirming correct encoding and no data quality issues."
      ]
    },
    {
      "cell_type": "code",
      "execution_count": 10,
      "metadata": {},
      "outputs": [
        {
          "data": {
            "text/html": [
              "<div>\n",
              "<style scoped>\n",
              "    .dataframe tbody tr th:only-of-type {\n",
              "        vertical-align: middle;\n",
              "    }\n",
              "\n",
              "    .dataframe tbody tr th {\n",
              "        vertical-align: top;\n",
              "    }\n",
              "\n",
              "    .dataframe thead th {\n",
              "        text-align: right;\n",
              "    }\n",
              "</style>\n",
              "<table border=\"1\" class=\"dataframe\">\n",
              "  <thead>\n",
              "    <tr style=\"text-align: right;\">\n",
              "      <th></th>\n",
              "      <th>distance_from_home</th>\n",
              "      <th>distance_from_last_transaction</th>\n",
              "      <th>ratio_to_median_purchase_price</th>\n",
              "      <th>repeat_retailer</th>\n",
              "      <th>used_chip</th>\n",
              "      <th>used_pin_number</th>\n",
              "      <th>online_order</th>\n",
              "      <th>fraud</th>\n",
              "    </tr>\n",
              "  </thead>\n",
              "  <tbody>\n",
              "    <tr>\n",
              "      <th>count</th>\n",
              "      <td>100000.000000</td>\n",
              "      <td>100000.000000</td>\n",
              "      <td>100000.000000</td>\n",
              "      <td>100000.000000</td>\n",
              "      <td>100000.00000</td>\n",
              "      <td>100000.000000</td>\n",
              "      <td>100000.000000</td>\n",
              "      <td>100000.000000</td>\n",
              "    </tr>\n",
              "    <tr>\n",
              "      <th>mean</th>\n",
              "      <td>26.681624</td>\n",
              "      <td>5.048395</td>\n",
              "      <td>1.832806</td>\n",
              "      <td>0.880780</td>\n",
              "      <td>0.34857</td>\n",
              "      <td>0.101290</td>\n",
              "      <td>0.651250</td>\n",
              "      <td>0.087400</td>\n",
              "    </tr>\n",
              "    <tr>\n",
              "      <th>std</th>\n",
              "      <td>67.723706</td>\n",
              "      <td>28.179679</td>\n",
              "      <td>2.883186</td>\n",
              "      <td>0.324049</td>\n",
              "      <td>0.47652</td>\n",
              "      <td>0.301714</td>\n",
              "      <td>0.476577</td>\n",
              "      <td>0.282422</td>\n",
              "    </tr>\n",
              "    <tr>\n",
              "      <th>min</th>\n",
              "      <td>0.024602</td>\n",
              "      <td>0.000434</td>\n",
              "      <td>0.007427</td>\n",
              "      <td>0.000000</td>\n",
              "      <td>0.00000</td>\n",
              "      <td>0.000000</td>\n",
              "      <td>0.000000</td>\n",
              "      <td>0.000000</td>\n",
              "    </tr>\n",
              "    <tr>\n",
              "      <th>25%</th>\n",
              "      <td>3.875510</td>\n",
              "      <td>0.293744</td>\n",
              "      <td>0.476066</td>\n",
              "      <td>1.000000</td>\n",
              "      <td>0.00000</td>\n",
              "      <td>0.000000</td>\n",
              "      <td>0.000000</td>\n",
              "      <td>0.000000</td>\n",
              "    </tr>\n",
              "    <tr>\n",
              "      <th>50%</th>\n",
              "      <td>9.942868</td>\n",
              "      <td>0.997630</td>\n",
              "      <td>1.002759</td>\n",
              "      <td>1.000000</td>\n",
              "      <td>0.00000</td>\n",
              "      <td>0.000000</td>\n",
              "      <td>1.000000</td>\n",
              "      <td>0.000000</td>\n",
              "    </tr>\n",
              "    <tr>\n",
              "      <th>75%</th>\n",
              "      <td>25.717717</td>\n",
              "      <td>3.358880</td>\n",
              "      <td>2.102391</td>\n",
              "      <td>1.000000</td>\n",
              "      <td>1.00000</td>\n",
              "      <td>0.000000</td>\n",
              "      <td>1.000000</td>\n",
              "      <td>0.000000</td>\n",
              "    </tr>\n",
              "    <tr>\n",
              "      <th>max</th>\n",
              "      <td>5797.972589</td>\n",
              "      <td>4968.315477</td>\n",
              "      <td>266.689692</td>\n",
              "      <td>1.000000</td>\n",
              "      <td>1.00000</td>\n",
              "      <td>1.000000</td>\n",
              "      <td>1.000000</td>\n",
              "      <td>1.000000</td>\n",
              "    </tr>\n",
              "  </tbody>\n",
              "</table>\n",
              "</div>"
            ],
            "text/plain": [
              "       distance_from_home  distance_from_last_transaction  \\\n",
              "count       100000.000000                   100000.000000   \n",
              "mean            26.681624                        5.048395   \n",
              "std             67.723706                       28.179679   \n",
              "min              0.024602                        0.000434   \n",
              "25%              3.875510                        0.293744   \n",
              "50%              9.942868                        0.997630   \n",
              "75%             25.717717                        3.358880   \n",
              "max           5797.972589                     4968.315477   \n",
              "\n",
              "       ratio_to_median_purchase_price  repeat_retailer     used_chip  \\\n",
              "count                   100000.000000    100000.000000  100000.00000   \n",
              "mean                         1.832806         0.880780       0.34857   \n",
              "std                          2.883186         0.324049       0.47652   \n",
              "min                          0.007427         0.000000       0.00000   \n",
              "25%                          0.476066         1.000000       0.00000   \n",
              "50%                          1.002759         1.000000       0.00000   \n",
              "75%                          2.102391         1.000000       1.00000   \n",
              "max                        266.689692         1.000000       1.00000   \n",
              "\n",
              "       used_pin_number   online_order          fraud  \n",
              "count    100000.000000  100000.000000  100000.000000  \n",
              "mean          0.101290       0.651250       0.087400  \n",
              "std           0.301714       0.476577       0.282422  \n",
              "min           0.000000       0.000000       0.000000  \n",
              "25%           0.000000       0.000000       0.000000  \n",
              "50%           0.000000       1.000000       0.000000  \n",
              "75%           0.000000       1.000000       0.000000  \n",
              "max           1.000000       1.000000       1.000000  "
            ]
          },
          "execution_count": 10,
          "metadata": {},
          "output_type": "execute_result"
        }
      ],
      "source": [
        "# Summary Stats for all variables\n",
        "df.describe(include='all')# display summary statistics for all variables in the dataframe\n"
      ]
    },
    {
      "cell_type": "markdown",
      "metadata": {},
      "source": [
        "---"
      ]
    },
    {
      "cell_type": "markdown",
      "metadata": {
        "id": "ltNetd085qHf"
      },
      "source": [
        "# Section 5: Distribution and Outlier Checks\n"
      ]
    },
    {
      "cell_type": "markdown",
      "metadata": {},
      "source": [
        "**Aim:**\n",
        "- To examine the continuous features to understand their distribution, scale, and the presence of extreme values. This will help decide whether transformations (such as log scaling) or outlier handling is needed later.\n",
        "\n",
        "**Approach:**\n",
        "- Plot histograms to view the shape and skew of each variable.\n",
        "- Use boxplots to spot potential outliers.\n",
        "- Apply the IQR (interquartile range) method to count possible outlier values numerically.\n",
        "\n",
        "**Visualisation Libraries used:**\n",
        "- Matplotlib was used for histograms as it is lightweight control for simple distribution plots. It’s ideal for quickly visualising multiple histograms side-by-side with minimal formatting.\n",
        "- Matplotlib was used for boxplots to visualise the spread and potential outliers in continuous variables. It provides clear, simple plots that show medians, quartiles, and extremes, helping to identify skewness and extreme values. However, the large spread in this dataset causes the boxes to appear compressed due to extreme outliers. In the EDA stage, boxplots will be revisited using the log-transformed features created here, and with outlier suppression applied to focus on medians and quartiles for clearer interpretation.\n",
        "\n",
        "**Results show:**\n",
        "- In these histograms you can see all three continuous features appear right-skewed, with the bulk of values close to zero.\n",
        "- Two plots suggest there are some larger values present (distance from home and ratio to median purchase price).\n",
        "- The boxplots and the IQR test, flag a large number of potential outliers in all three.\n",
        "\n",
        "**Insights:**\n",
        "- The data contains many transactions with very large distances or ratios, consistent with outlier behaviour.\n",
        "- At this stage, all outliers are retained (instead of 'dropping' them), as they may carry important fraud signal. Later steps may apply transformations (e.g. log scale) to reduce skew."
      ]
    },
    {
      "cell_type": "code",
      "execution_count": 11,
      "metadata": {},
      "outputs": [
        {
          "data": {
            "image/png": "[encoded data removed]",
            "text/plain": [
              "<Figure size 1200x600 with 4 Axes>"
            ]
          },
          "metadata": {},
          "output_type": "display_data"
        }
      ],
      "source": [
        "# Histograms for continuous variables\n",
        "cont_cols = [\"distance_from_home\", \n",
        "             \"distance_from_last_transaction\", \n",
        "             \"ratio_to_median_purchase_price\"] # list of continuous variable columns\n",
        "\n",
        "df[cont_cols].hist(bins=50, figsize=(12,6)) # plot histograms for continuous columns \n",
        "plt.suptitle(\"Distribution of Continuous Features\") # add a title\n",
        "plt.show() # display the plots"
      ]
    },
    {
      "cell_type": "code",
      "execution_count": 12,
      "metadata": {},
      "outputs": [
        {
          "data": {
            "image/png": "[encoded data removed]",
            "text/plain": [
              "<Figure size 1000x600 with 3 Axes>"
            ]
          },
          "metadata": {},
          "output_type": "display_data"
        }
      ],
      "source": [
        "# Boxplots for continuous variables to check for outliers\n",
        "df[cont_cols].plot(kind='box', subplots=True, layout=(1,3), figsize=(10,6)) # plot boxplots for continuous columns\n",
        "plt.suptitle(\"Boxplots of Continuous Features\") # add a title\n",
        "plt.show() # display the plots"
      ]
    },
    {
      "cell_type": "code",
      "execution_count": 13,
      "metadata": {},
      "outputs": [
        {
          "name": "stdout",
          "output_type": "stream",
          "text": [
            "distance_from_home                 : 10397 outliers (IQR method)\n",
            "distance_from_last_transaction     : 12469 outliers (IQR method)\n",
            "ratio_to_median_purchase_price     : 8464 outliers (IQR method)\n"
          ]
        }
      ],
      "source": [
        "# IQR method to identify outliers\n",
        "for col in cont_cols:\n",
        "    Q1 = df[col].quantile(0.25) # first quartile\n",
        "    Q3 = df[col].quantile(0.75) # third quartile\n",
        "    IQR = Q3 - Q1 # interquartile range\n",
        "    lower_bound = Q1 - 1.5 * IQR # lower bound for outliers\n",
        "    upper_bound = Q3 + 1.5 * IQR # upper bound for outliers\n",
        "    outliers = df[(df[col] < lower_bound) | (df[col] > upper_bound)] # identify outliers\n",
        "    print(f\"{col:35s}: {len(outliers)} outliers (IQR method)\") # formatted print of number of outliers"
      ]
    },
    {
      "cell_type": "markdown",
      "metadata": {},
      "source": [
        "---\n",
        "# Section 6: Binary Feature Checks and Adjustments\n",
        "**Goal:**\n",
        "\n",
        "Confirm that binary variables are correctly encoded as 0/1 and assess their distributions. This ensures data integrity and highlights any imbalance (particularly important for the fraud label).\n",
        "\n",
        "**Approach:**\n",
        "- Used .value_counts() to check the frequency of 0s and 1s in each binary feature.\n",
        "- Created simple bar charts for quick visual confirmation using Matplotlib, chosen because it is lightweight, fast, and effective for categorical comparisons.\n",
        "- Converted binary variables from float to integer (0/1) where required to improve clarity and memory efficiency for analysis and modelling.\n",
        "\n",
        "**Results:**\n",
        "- repeat_retailer is mostly 1 (repeat customers are common).\n",
        "- used_chip and used_pin_number have more 0 values, indicating many transactions do not use chip or PIN.\n",
        "- online_order shows a majority of transactions are online.\n",
        "- fraud is imbalanced with approximately 8.7% positive cases and 91.3% negatives.\n",
        "- Binary features were successfully converted from float to integer (0/1).\n",
        "\n",
        "**Insights:**\n",
        "- Fraud is the only strongly imbalanced feature, which is expected since fraudulent transactions are naturally less frequent. However, this imbalance must be addressed or monitored during modelling.\n",
        "- Other binary features look realistic and provide meaningful signals (for example, online orders may be associated with higher risk).\n",
        "\n"
      ]
    },
    {
      "cell_type": "code",
      "execution_count": 14,
      "metadata": {},
      "outputs": [
        {
          "name": "stdout",
          "output_type": "stream",
          "text": [
            "\n",
            "repeat_retailer value counts:\n",
            "repeat_retailer\n",
            "1.0    0.881\n",
            "0.0    0.119\n",
            "Name: proportion, dtype: float64\n",
            "\n",
            "used_chip value counts:\n",
            "used_chip\n",
            "0.0    0.651\n",
            "1.0    0.349\n",
            "Name: proportion, dtype: float64\n",
            "\n",
            "used_pin_number value counts:\n",
            "used_pin_number\n",
            "0.0    0.899\n",
            "1.0    0.101\n",
            "Name: proportion, dtype: float64\n",
            "\n",
            "online_order value counts:\n",
            "online_order\n",
            "1.0    0.651\n",
            "0.0    0.349\n",
            "Name: proportion, dtype: float64\n",
            "\n",
            "fraud value counts:\n",
            "fraud\n",
            "0.0    0.913\n",
            "1.0    0.087\n",
            "Name: proportion, dtype: float64\n"
          ]
        }
      ],
      "source": [
        "# Binary feature checks\n",
        "binary_cols = [\"repeat_retailer\", # list of binary variable columns\n",
        "               \"used_chip\", \n",
        "               \"used_pin_number\", \n",
        "               \"online_order\", \n",
        "               \"fraud\"]\n",
        "\n",
        "# Display value counts for binary columns\n",
        "for col in binary_cols: # iterate over binary columns\n",
        "    print(f\"\\n{col} value counts:\") # print column name before value counts for clarity\n",
        "    print(df[col].value_counts(normalize=True).round(3)) # display value counts for binary columns\n"
      ]
    },
    {
      "cell_type": "code",
      "execution_count": 15,
      "metadata": {},
      "outputs": [
        {
          "data": {
            "image/png": "[encoded data removed]",
            "text/plain": [
              "<Figure size 800x400 with 1 Axes>"
            ]
          },
          "metadata": {},
          "output_type": "display_data"
        }
      ],
      "source": [
        "# Quick bar plots (Matplotlib) \n",
        "\n",
        "df[binary_cols].astype(int).sum().plot(kind=\"bar\", figsize=(8,4)) # bar plot of sum of 1s in binary columns\n",
        "plt.title(\"Count of 1 values in Binary Features\") # add title\n",
        "plt.ylabel(\"Count of 1s\") # add y-axis label\n",
        "plt.show() #"
      ]
    },
    {
      "cell_type": "markdown",
      "metadata": {},
      "source": [
        "**Binary Data Types Adjustment**\n",
        "\n",
        "In this next step I convert binary features from float to integer (0/1). "
      ]
    },
    {
      "cell_type": "code",
      "execution_count": 16,
      "metadata": {},
      "outputs": [
        {
          "data": {
            "text/plain": [
              "repeat_retailer    int32\n",
              "used_chip          int32\n",
              "used_pin_number    int32\n",
              "online_order       int32\n",
              "fraud              int32\n",
              "dtype: object"
            ]
          },
          "execution_count": 16,
          "metadata": {},
          "output_type": "execute_result"
        }
      ],
      "source": [
        "# Covert Binary columns to integer type if not already\n",
        "binary_cols = [\"repeat_retailer\",\n",
        "                \"used_chip\",\n",
        "                 \"used_pin_number\", \n",
        "                 \"online_order\", \n",
        "                 \"fraud\"] # list of binary variable columns\n",
        "df[binary_cols] = df[binary_cols].astype(int) # convert binary columns to integer type\n",
        "df[binary_cols].dtypes # display data types of binary columns to confirm conversion"
      ]
    },
    {
      "cell_type": "markdown",
      "metadata": {},
      "source": [
        "---\n",
        "# Section 7: Correlation Analysis\n",
        "\n",
        "Heatmap to explore relationships between variables and see how strongly they correlate with the target fraud. This helps identify redundancy between features and provides an early indication of predictive signal.\n",
        "\n",
        "Seaborn’s heatmap was used to visualise correlations between continuous features because it provides a clear, colour-coded summary of relationships. This helps identify which variables may contribute meaningfully to fraud prediction.\n",
        "\n",
        "**Results:**\n",
        "- Most features show very low correlation with each other, so multicollinearity is not a concern.\n",
        "- Correlation with the target fraud is modest:\n",
        "- ratio_to_median_purchase_price has the strongest positive correlation (0.45).\n",
        "- distance_from_home (0.18) and online_order (0.19) show weaker positive correlations.\n",
        "- distance_from_last_transaction is close to 0.09.\n",
        "- used_chip (–0.06) and used_pin_number (–0.10) show weak negative correlations.\n",
        "- repeat_retailer is not correlated with fraud.\n",
        "\n",
        "**Insights:**\n",
        "- None of the features strongly predict fraud on their own, which is expected in fraud datasets where non-linear patterns matter more than linear correlations.\n",
        "- The modest correlations suggest all features may still carry useful signal for modelling.\n",
        "- Skewed continuous features (distance_from_home, distance_from_last_transaction, ratio_to_median_purchase_price) will likely benefit from log transformations in Feature Engineering."
      ]
    },
    {
      "cell_type": "code",
      "execution_count": 17,
      "metadata": {},
      "outputs": [
        {
          "data": {
            "image/png": "[encoded data removed]",
            "text/plain": [
              "<Figure size 800x600 with 2 Axes>"
            ]
          },
          "metadata": {},
          "output_type": "display_data"
        }
      ],
      "source": [
        "# Correlation Heatmap with Seaborn\n",
        "\n",
        "corr = df.corr() # calculate the correlation matrix\n",
        "\n",
        "plt.figure(figsize=(8,6)) # set figure size\n",
        "sns.heatmap(corr, annot=True, fmt=\".2f\", cmap='coolwarm', cbar=True) # plot the heatmap with annotations\n",
        "plt.title(\"Correlation Heat Map - All Features\") # add a title\n",
        "plt.show() # display the plot"
      ]
    },
    {
      "cell_type": "markdown",
      "metadata": {},
      "source": [
        "---\n",
        "# Section 8: Feature Engineering\n",
        "**Goal**\n",
        "- Create new variables and transformations to capture fraud patterns that are not easily visible in the raw features. This step improves model performance and interpretability.\n",
        "\n",
        "**Approach:**\n",
        "- Applied log transformations to reduce skew in continuous variables.\n",
        "- Grouped continuous variables into bins (e.g., quintiles) for easier pattern comparison during analysis.\n",
        "- Engineered interaction features to capture combined effects (e.g., online_order × high distance_from_home, or combinations of binary indicators such as online_order and used_chip).\n",
        "- Verify created correctly\n",
        "\n",
        "These transformations were applied alongside the cleaned dataset, so both the raw and engineered versions can be compared during modelling. The engineered variables are saved as additional columns in the processed dataset, which will be used for Modelling, EDA, and Power BI stages.\n",
        "\n",
        "**Outputs**\n",
        "- The following new columns were created and verified as part of feature engineering:\n",
        "    - Log-transformed continuous variables\n",
        "    - log_distance_from_home\n",
        "    - log_distance_from_last_transaction\n",
        "    - log_ratio_to_median_purchase_price\n",
        "- Binned variables (five equal-frequency bins)\n",
        "    - log_distance_from_home_bin\n",
        "    - log_purchase_price_bin\n",
        "    - log_distance_from_last_transaction_bin\n",
        "- Interaction and cross-features\n",
        "    - online_high_distance (flag where the transaction was online and occurred farther than the customer’s median distance from home)\n",
        "    - online_chip_category, descriptive labels for combinations of online_order, used_chip or no_chip (e.g. e.g., offline_no_chip, offline_with_chip, online_no_chip, online_with_chip)\n",
        "    - online_and_chip (numeric flag, where both online and chip used).\n"
      ]
    },
    {
      "cell_type": "code",
      "execution_count": 18,
      "metadata": {},
      "outputs": [
        {
          "name": "stdout",
          "output_type": "stream",
          "text": [
            "\n",
            "Cross feature category distribution:\n",
            "\n",
            "======================================================================\n",
            "online_chip_category\n",
            "online_no_chip       42405\n",
            "offline_no_chip      22738\n",
            "online_with_chip     22720\n",
            "offline_with_chip    12137\n",
            "Name: count, dtype: int64\n",
            "\n",
            "Fraud rates by Cross Category:\n",
            "\n",
            "======================================================================\n",
            "                          mean  count   sum\n",
            "online_chip_category                       \n",
            "offline_no_chip       0.017284  22738   393\n",
            "offline_with_chip     0.005520  12137    67\n",
            "online_no_chip        0.144818  42405  6141\n",
            "online_with_chip      0.094146  22720  2139\n",
            "\n",
            "======================================================================\n",
            "\n",
            "First 5 rows of new feature columns:\n"
          ]
        },
        {
          "data": {
            "text/html": [
              "<div>\n",
              "<style scoped>\n",
              "    .dataframe tbody tr th:only-of-type {\n",
              "        vertical-align: middle;\n",
              "    }\n",
              "\n",
              "    .dataframe tbody tr th {\n",
              "        vertical-align: top;\n",
              "    }\n",
              "\n",
              "    .dataframe thead th {\n",
              "        text-align: right;\n",
              "    }\n",
              "</style>\n",
              "<table border=\"1\" class=\"dataframe\">\n",
              "  <thead>\n",
              "    <tr style=\"text-align: right;\">\n",
              "      <th></th>\n",
              "      <th>online_order</th>\n",
              "      <th>used_chip</th>\n",
              "      <th>online_chip_category</th>\n",
              "      <th>online_and_chip</th>\n",
              "      <th>fraud</th>\n",
              "    </tr>\n",
              "  </thead>\n",
              "  <tbody>\n",
              "    <tr>\n",
              "      <th>0</th>\n",
              "      <td>1</td>\n",
              "      <td>0</td>\n",
              "      <td>online_no_chip</td>\n",
              "      <td>0</td>\n",
              "      <td>0</td>\n",
              "    </tr>\n",
              "    <tr>\n",
              "      <th>1</th>\n",
              "      <td>1</td>\n",
              "      <td>1</td>\n",
              "      <td>online_with_chip</td>\n",
              "      <td>1</td>\n",
              "      <td>0</td>\n",
              "    </tr>\n",
              "    <tr>\n",
              "      <th>2</th>\n",
              "      <td>0</td>\n",
              "      <td>1</td>\n",
              "      <td>offline_with_chip</td>\n",
              "      <td>0</td>\n",
              "      <td>0</td>\n",
              "    </tr>\n",
              "    <tr>\n",
              "      <th>3</th>\n",
              "      <td>1</td>\n",
              "      <td>0</td>\n",
              "      <td>online_no_chip</td>\n",
              "      <td>0</td>\n",
              "      <td>0</td>\n",
              "    </tr>\n",
              "    <tr>\n",
              "      <th>4</th>\n",
              "      <td>0</td>\n",
              "      <td>0</td>\n",
              "      <td>offline_no_chip</td>\n",
              "      <td>0</td>\n",
              "      <td>0</td>\n",
              "    </tr>\n",
              "  </tbody>\n",
              "</table>\n",
              "</div>"
            ],
            "text/plain": [
              "   online_order  used_chip online_chip_category  online_and_chip  fraud\n",
              "0             1          0       online_no_chip                0      0\n",
              "1             1          1     online_with_chip                1      0\n",
              "2             0          1    offline_with_chip                0      0\n",
              "3             1          0       online_no_chip                0      0\n",
              "4             0          0      offline_no_chip                0      0"
            ]
          },
          "execution_count": 18,
          "metadata": {},
          "output_type": "execute_result"
        }
      ],
      "source": [
        "# Feature Engineering for Modeling and EDA Notebooks\n",
        "\n",
        "# Log transform the skewed continuous variables to reduce skewness\n",
        "df[\"log_distance_from_home\"] = np.log1p(df[\"distance_from_home\"]) # log transform distance_from_home\n",
        "df[\"log_distance_from_last_transaction\"] = np.log1p(df[\"distance_from_last_transaction\"]) # log transform distance_from_last_transaction\n",
        "df[\"log_ratio_to_median_purchase_price\"] = np.log1p(df[\"ratio_to_median_purchase_price\"]) # log transform ratio_to_median_purchase_price\n",
        "\n",
        "# Binning continuous variables into quintiles (5 equal-frequency bins)\n",
        "df[\"log_distance_from_home_bin\"] = pd.qcut(df[\"log_distance_from_home\"], 5, labels=False)\n",
        "df[\"log_purchase_price_bin\"] = pd.qcut(df[\"log_ratio_to_median_purchase_price\"], 5, labels=False)\n",
        "df[\"log_distance_from_last_transaction_bin\"] = pd.qcut(df[\"log_distance_from_last_transaction\"], 5, labels=False)\n",
        "\n",
        "# Interaction features: Combine binary features for analysis\n",
        "\n",
        "# Online and distance from home interaction\n",
        "df[\"online_high_distance\"] = df[\"online_order\"] * (df[\"distance_from_home\"] > df[\"distance_from_home\"].median()).astype(int) # interaction of online_order and high distance from home (greater than median)\n",
        "\n",
        "# Cross-feature: Combine online_order and used_chip with descriptive labels (for EDA and Power BI)\n",
        "df[\"online_chip_category\"] = (\n",
        "    df[\"online_order\"].astype(str) + \"_\" + df[\"used_chip\"].astype(str) # concatenate online_order and used_chip as strings with underscore\n",
        ").map({\n",
        "    \"0_0\": \"offline_no_chip\", # descriptive labels for combinations\n",
        "    \"0_1\": \"offline_with_chip\", # descriptive labels for combinations\n",
        "    \"1_0\": \"online_no_chip\", # descriptive labels for combinations\n",
        "    \"1_1\": \"online_with_chip\" # descriptive labels for combinations\n",
        "})\n",
        "\n",
        "# Numeric interaction flag: 1 = both online AND chip used (for modeling)\n",
        "df[\"online_and_chip\"] = (df[\"online_order\"] & df[\"used_chip\"]).astype(int) # interaction of online_order and used_chip as numeric flag\n",
        "\n",
        "# Check the new cross_feature columns to confirm they were added correctly\n",
        "print(\"\\nCross feature category distribution:\") # adds text to the output before the new feature columns for clarity\n",
        "print(\"\\n\" + \"=\"*70) # separator line for clarity\n",
        "print (df[\"online_chip_category\"].value_counts()) # display value counts for the new categorical feature\n",
        "print(\"\\nFraud rates by Cross Category:\") # adds text to the output before the fraud rates by new feature for clarity\n",
        "print(\"\\n\" + \"=\"*70) # separator line for clarity\n",
        "print (df.groupby(\"online_chip_category\")[\"fraud\"].agg([\"mean\", \"count\", \"sum\"])) # display fraud rates by the new categorical feature\n",
        "print(\"\\n\" + \"=\"*70) # separator line for clarity\n",
        "print(\"\\nFirst 5 rows of new feature columns:\") # adds text to the output before displaying first 5 rows\n",
        "df[[\"online_order\", \"used_chip\", \"online_chip_category\", \"online_and_chip\", \"fraud\"]].head() # display the first 5 rows of the new feature columns\n"
      ]
    },
    {
      "cell_type": "code",
      "execution_count": 19,
      "metadata": {},
      "outputs": [
        {
          "name": "stdout",
          "output_type": "stream",
          "text": [
            "Full new feature set verification\n",
            "\n",
            "======================================================================\n",
            "\n",
            "Full feature check:\n",
            "All 9 engineered features created successfully\n",
            "\n",
            "Feature count summary:\n",
            "Original features: 8\n",
            "Engineered features: 9\n",
            "Total number features in dataset: 17\n",
            "Feature count matches expected (8 + 9 = 17)\n",
            "\n",
            "NaN check in new features:\n",
            "No NaN values introduced by feature engineering\n",
            "\n",
            "Datatype verification new features:\n",
            "log_distance_from_home                       : float64\n",
            "log_distance_from_last_transaction           : float64\n",
            "log_ratio_to_median_purchase_price           : float64\n",
            "log_distance_from_home_bin                   : int64\n",
            "log_purchase_price_bin                       : int64\n",
            "log_distance_from_last_transaction_bin       : int64\n",
            "online_high_distance                         : int32\n",
            "online_chip_category                         : object\n",
            "online_and_chip                              : int32\n",
            "\n",
            "======================================================================\n",
            "Full feature set verification complete\n"
          ]
        }
      ],
      "source": [
        "# New Feature full set verification that all engineered features were created correctly\n",
        "\n",
        "print(\"Full new feature set verification\") # Print \"Full new feature set verification\" before next print output for clarity\n",
        "print(\"\\n\" + \"=\"*70) # separator line\n",
        "\n",
        "# List ALL engineered features\n",
        "expected_features = [\n",
        "    \"log_distance_from_home\",\n",
        "    \"log_distance_from_last_transaction\", \n",
        "    \"log_ratio_to_median_purchase_price\",\n",
        "    \"log_distance_from_home_bin\",\n",
        "    \"log_purchase_price_bin\",\n",
        "    \"log_distance_from_last_transaction_bin\",\n",
        "    \"online_high_distance\",\n",
        "    \"online_chip_category\",\n",
        "    \"online_and_chip\"\n",
        "]\n",
        "\n",
        "# 1. Check if all features exist\n",
        "print(\"\\nFull feature check:\")\n",
        "missing_features = [f for f in expected_features if f not in df.columns] # list of missing features\n",
        "\n",
        "if missing_features:\n",
        "    print(f\"Missing features: {missing_features}\") # print missing features if any\n",
        "else:\n",
        "    print(f\"All {len(expected_features)} engineered features created successfully\") # confirmation message if no missing features\n",
        "\n",
        "# 2. Feature count summary\n",
        "print(f\"\\nFeature count summary:\") # Print \"Feature count summary\" before next print output for clarity\n",
        "original_features = 8 # number of original features\n",
        "engineered_features = len(expected_features) # number of engineered features\n",
        "total_features = df.shape[1] # total number of features in the dataframe\n",
        "\n",
        "print(f\"Original features: {original_features}\") # print number of original features\n",
        "print(f\"Engineered features: {engineered_features}\") # print number of engineered features\n",
        "print(f\"Total number features in dataset: {total_features}\") # print total number of features\n",
        "\n",
        "if total_features == (original_features + engineered_features): # check if total features match expected count\n",
        "    print(f\"Feature count matches expected ({original_features} + {engineered_features} = {total_features})\") # confirmation message if counts match\n",
        "else:\n",
        "    print(f\"Error: Expected {original_features + engineered_features} features, found {total_features}\") # print error message if counts do not match\n",
        "\n",
        "# 3. Check if any NaN values introduced by transformations\n",
        "print(f\"\\nNaN check in new features:\") # print \"NaN check in new features\" before next print output for clarity\n",
        "nan_counts = df[expected_features].isna().sum() # count NaN values in engineered features\n",
        "\n",
        "if nan_counts.sum() > 0: # if there are any NaN values\n",
        "    print(f\"Issue: NaN values introduced in engineered features:\") # print message if NaN values found\n",
        "    print(nan_counts[nan_counts > 0]) # display counts of NaN values\n",
        "else:\n",
        "    print(f\"No NaN values introduced by feature engineering\") # confirmation message if no NaN values\n",
        "\n",
        "# 4. Data type verification\n",
        "print(f\"\\nDatatype verification new features:\")\n",
        "for feat in expected_features: # iterate over engineered features\n",
        "    dtype = df[feat].dtype # get data type of the feature\n",
        "    print(f\"{feat:45s}: {dtype}\") # formatted print of feature name and data type\n",
        "\n",
        "print(\"\\n\" + \"=\"*70) # separator line\n",
        "print(\"Full feature set verification complete\") # confirmation message\n"
      ]
    },
    {
      "cell_type": "markdown",
      "metadata": {},
      "source": [
        "---\n",
        "# Section 9: Save Processed Dataset \n",
        "Save the cleaned and feature engineered dataset so it can be reused in modelling and visualisation notebooks without re-running the ETL pipeline."
      ]
    },
    {
      "cell_type": "code",
      "execution_count": 20,
      "metadata": {},
      "outputs": [
        {
          "name": "stdout",
          "output_type": "stream",
          "text": [
            "Processed file saved to data\\processed\\card_transdata_processed.csv\n",
            "Final Shape: (100000, 17)\n",
            "File exists: data\\processed\\card_transdata_processed.csv\n"
          ]
        }
      ],
      "source": [
        "# Create processed folder if it does not exist\n",
        "processed_path = Path(\"data/processed\") # define the path for the processed data folder\n",
        "processed_path.mkdir(parents=True, exist_ok=True) # create the folder if it does not exist\n",
        "\n",
        "# Define output file path\n",
        "output_file = processed_path / \"card_transdata_processed.csv\" # define the output file path\n",
        "\n",
        "# Save processed file to CSV\n",
        "df.to_csv(output_file, index=False) # save the dataframe to a CSV file without the index\n",
        "\n",
        "print(f\"Processed file saved to {output_file}\") # confirmation message with the output file path\n",
        "print(f\"Final Shape: {df.shape}\") # display the final shape of the dataframe\n",
        "\n",
        "# Verify file exists and print confirmation\n",
        "if output_file.exists(): # check if the output file exists\n",
        "    print(f\"File exists: {output_file}\") # confirmation message if file exists\n"
      ]
    },
    {
      "cell_type": "markdown",
      "metadata": {},
      "source": [
        "---\n",
        "# Section 10: Summary and Next Steps\n",
        "\n",
        "**Summary of work completed in this notebook:**\n",
        "- Loaded the pre-created 100k stratified sample from data/raw/card_transdata_sample_100k.csv and confirmed structure (100,000 rows × 8 columns).\n",
        "- Verified data quality: no missing values, no duplicates, correct ranges.\n",
        "- Confirmed fraud class balance preserved (8.74% fraud rate, 8,740 fraud cases).\n",
        "- Explored continuous variables (all right-skewed with many potential outliers, but retained them as they may carry fraud signal).\n",
        "- Verified binary features and converted them to integer type for clarity.\n",
        "- Assessed correlations: no strong overlap between variables, modest associations with fraud.\n",
        "- Engineered additional features (e.g. log-transformed versions of skewed variables, binned categories capturing threshold effects, and new interaction variables):\n",
        "    - binary flags (online_high_distance, online_and_chip) and categorical combinations (online_chip_category).\n",
        "- Exported the processed dataset (100k rows) to data/processed/card_transdata_processed.csv for use in later notebooks.\n",
        "- Insights from ETL & Feature Engineering:\n",
        "    - Fraud is relatively rare (8.7%), confirming class imbalance.\n",
        "    - Some engineered features capture potential fraud patterns (e.g., high purchase price ratio, online with high distance).\n",
        "    - Stratified sampling maintains statistical properties while improving computational efficiency.\n",
        "- Dataset is clean, balanced in structure, and ready for modelling.\n",
        "\n",
        "**Next steps:**\n",
        "\n",
        "Fraud detection is essentially a probability problem: each transaction carries a certain likelihood of being fraudulent. Probabilities in data analysis guide both statistical tests (p-values) and machine learning predictions. Hypothesis tests are useful to check whether observed differences (e.g. between fraud and non-fraud groups) are statistically significant or could be due to chance.\n",
        "\n",
        "Machine learning extends this by learning patterns from the data to predict whether a new transaction is likely to be fraudulent. Instead of manually testing each feature, models can combine multiple factors at once to detect correlations and patterns that are complex. In practice, this means training algorithms to classify transactions, and then evaluating their accuracy using metrics that matter in a fraud context (for example, how well the model balances catching fraud with avoiding false alarms).\n",
        "\n",
        "Next Steps include:\n",
        "- Conducting further Exploratory Data Analyses through hypothesis tests in the EDA notebook, such as:\n",
        "    - Mann–Whitney U and Chi-square tests.\n",
        "- Running Baseline Modelling for machine learning predictions in the Modelling_baseline notebook. The aim is to:\n",
        "    - Train Logistic Regression and Decision Tree models to establish benchmarks.\n",
        "    - Evaluate models using metrics such as precision, recall, and PR AUC to reflect business trade-offs in fraud detection. \n",
        "    - Use baseline results to inform more advanced modelling and threshold selection."
      ]
    }
  ],
  "metadata": {
    "accelerator": "GPU",
    "colab": {
      "name": "Data Practitioner Jupyter Notebook.ipynb",
      "provenance": [],
      "toc_visible": true
    },
    "kernelspec": {
      "display_name": ".venv (3.12.8)",
      "language": "python",
      "name": "python3"
    },
    "language_info": {
      "codemirror_mode": {
        "name": "ipython",
        "version": 3
      },
      "file_extension": ".py",
      "mimetype": "text/x-python",
      "name": "python",
      "nbconvert_exporter": "python",
      "pygments_lexer": "ipython3",
      "version": "3.12.8"
    },
    "orig_nbformat": 2
  },
  "nbformat": 4,
  "nbformat_minor": 2
}
