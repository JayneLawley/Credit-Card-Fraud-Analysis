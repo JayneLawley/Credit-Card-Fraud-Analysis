{
  "cells": [
    {
      "cell_type": "markdown",
      "metadata": {
        "id": "0aStgWSO0E0E"
      },
      "source": [
        "# **Exploratory Data Analysis (EDL)** "
      ]
    },
    {
      "cell_type": "markdown",
      "metadata": {
        "id": "1eLEkw5O0ECa"
      },
      "source": [
        "## Objectives\n",
        "\n",
        "This notebook performs exploratory data analysis (EDA) on the processed dataset to better understand the engineered features created during the ETL stage. It combines statistical hypothesis testing and graphical exploration to identify meaningful patterns, validate assumptions, and confirm relationships relevant to fraud detection.\n",
        "\n",
        "The insights from this analysis will provide a deeper understanding of feature significance, support model development, and inform the design of visual elements in the Power BI dashboard.\n",
        "\n",
        "The tests for the following hypotheses compare two groups (fraudulent vs non-fraudulent transactions) using non-parametric data (data that is skewed, contains outliers, or is better described by ranks or medians rather than means). For this reason, I use the Mann–Whitney U test (which is ideally suited to this scenario):\n",
        "- H1: Fraud increases with distance from home.\n",
        "- H2: Fraud increases with distance from the last transaction.\n",
        "- H3: Fraud increases with ratio to median purchase price.\n",
        "\n",
        "In comparison, the Chi-square test of independence is used for the following hypotheses, as they involve categorical variables and assess whether there is a significant association between fraud occurrence and different transaction characteristics.\n",
        "\n",
        "The Chi-square test is appropriate when comparing frequency counts across categories (e.g., online vs offline, chip used vs not used). It evaluates whether observed differences between groups are likely due to chance or reflect a genuine relationship.\n",
        "\n",
        "Where Chi-square test results show contingency tables with very small expected cell counts (typically fewer than 5), the Fisher’s Exact Test is also conducted, as it provides a more reliable result for small samples.\n",
        "\n",
        "Hypotheses tested with Chi-square (and Fisher's Exact if needed):\n",
        "- H4: Online orders are more likely to be fraudulent.\n",
        "- H5: Chip or PIN use reduces fraud likelihood.\n",
        "- H6: Fraud likelihood varies by repeat retailer.\n",
        "- H8: Fraud likelihood depends on the combination of online order and chip use (interaction effect).\n",
        "\n",
        "**Note:**\n",
        "- H7: Threshold tuning will be explored in the modelling notebook using Precision–Recall curve analysis to illustrate how different cost trade-offs affect performance. This step demonstrates the balance between detecting more fraud and reducing false positives, but it is not a statistical hypothesis test.\n",
        "\n",
        "## Inputs\n",
        "- Processed dataset data/processed/card_transdata_processed.csv produced from ETL (which was derived from 100k stratified sample)\n",
        "\n",
        "## Outputs\n",
        "- Statistical test results (Mann–Whitney U and Chi-square).\n",
        "- Visualisations showing feature distributions and comparisons between fraud and non-fraud transactions.\n",
        "- Business insights highlighting key fraud detection patterns.\n",
        "- Results from this notebook will also inform:\n",
        "    - Modelling (feature selection and variable importance).\n",
        "    - Power BI Dashboard Reports"
      ]
    },
    {
      "cell_type": "markdown",
      "metadata": {
        "id": "9uWZXH9LwoQg"
      },
      "source": [
        "---"
      ]
    },
    {
      "cell_type": "markdown",
      "metadata": {
        "id": "cqP-UeN-z3i2"
      },
      "source": [
        "# Change working directory"
      ]
    },
    {
      "cell_type": "markdown",
      "metadata": {},
      "source": [
        "I need to change the working directory from the current folder to its parent folder (required because the notebook is being run from inside the jupyter notebooks subfolder). In the code below, I change the working directory from its current folder to its parent folder.  \n",
        "* I access the current directory with os.getcwd()"
      ]
    },
    {
      "cell_type": "code",
      "execution_count": 1,
      "metadata": {
        "id": "wZfF_j-Bz3i4",
        "outputId": "66943449-1436-4c3d-85c7-b85f9f78349b"
      },
      "outputs": [
        {
          "data": {
            "text/plain": [
              "'c:\\\\DA_Capstone\\\\Credit-Card-Fraud-Analysis\\\\jupyter_notebooks'"
            ]
          },
          "execution_count": 1,
          "metadata": {},
          "output_type": "execute_result"
        }
      ],
      "source": [
        "import os\n",
        "current_dir = os.getcwd()\n",
        "current_dir"
      ]
    },
    {
      "cell_type": "markdown",
      "metadata": {
        "id": "9MWW8E7lz3i7"
      },
      "source": [
        "We want to make the parent of the current directory the new current directory\n",
        "* os.path.dirname() gets the parent directory\n",
        "* os.chdir() defines the new current directory"
      ]
    },
    {
      "cell_type": "code",
      "execution_count": 2,
      "metadata": {
        "id": "TwHsQRWjz3i9",
        "outputId": "86849db3-cd2f-4cc5-ebb8-2d0caafa1a2c"
      },
      "outputs": [
        {
          "name": "stdout",
          "output_type": "stream",
          "text": [
            "You set a new current directory\n"
          ]
        }
      ],
      "source": [
        "os.chdir(os.path.dirname(current_dir))\n",
        "print(\"You set a new current directory\")"
      ]
    },
    {
      "cell_type": "markdown",
      "metadata": {
        "id": "M_xPk_Ijz3i-"
      },
      "source": [
        "Confirm the new current directory"
      ]
    },
    {
      "cell_type": "code",
      "execution_count": 3,
      "metadata": {
        "id": "vz3S-_kjz3jA",
        "outputId": "00b79ae4-75d0-4a96-d193-ac9ef9847ea2"
      },
      "outputs": [
        {
          "data": {
            "text/plain": [
              "'c:\\\\DA_Capstone\\\\Credit-Card-Fraud-Analysis'"
            ]
          },
          "execution_count": 3,
          "metadata": {},
          "output_type": "execute_result"
        }
      ],
      "source": [
        "current_dir = os.getcwd()\n",
        "current_dir"
      ]
    },
    {
      "cell_type": "markdown",
      "metadata": {
        "id": "-mavJ8DibrcQ"
      },
      "source": [
        "# Section 1: Libraries for Visualisations, Data Check and Class Distribution Check\n",
        "\n",
        "In this first section, the required data analysis and visualisation libraries are loaded to support statistical testing and exploratory analysis.\n",
        "\n",
        "Quick checks are performed to ensure the processed dataset produced in the ETL stage has loaded correctly and matches the expected structure (I expect to see extra engineered columns whilst the fraud class distribution should remain the same):\n",
        "- Load the processed dataset from data/processed/card_transdata_processed.csv\n",
        "- Conduct basic shape and structure checks\n",
        "- Verify data loaded correctly before proceeding to hypothesis testing\n",
        "- Verify fraud rate matches the rate expected from sample metadata file (8.74%)\n",
        "- Check imbalance ratio \n",
        "\n",
        "**Results:**\n",
        "- Dataframe loads and shape as expected: 100,000 rows × 17 columns\n",
        "- First 5 rows load and display as expected\n",
        "- Fraud rate is 8.74% and this matches the rate in the sample metadata file\n",
        "- Imbalance ratio is 1:10.4 (non-fraud to fraud)\n",
        "\n",
        "Results confirm the processed file matches expected structure and is ready for exploratory analysis.\n"
      ]
    },
    {
      "cell_type": "markdown",
      "metadata": {},
      "source": [
        "Section 1 content"
      ]
    },
    {
      "cell_type": "code",
      "execution_count": 4,
      "metadata": {},
      "outputs": [
        {
          "data": {
            "text/plain": [
              "(100000, 17)"
            ]
          },
          "execution_count": 4,
          "metadata": {},
          "output_type": "execute_result"
        }
      ],
      "source": [
        "# Import Data analysis and visualisation libraries for EDA\n",
        "import pandas as pd # for data manipulation\n",
        "import matplotlib.pyplot as plt # for basic plotting\n",
        "import seaborn as sns # for enhanced visualisations\n",
        "from scipy import stats # Statistical libraries\n",
        "from scipy.stats import chi2_contingency # Chi-squared test\n",
        "import numpy as np # for numerical operations\n",
        "import plotly.express as px # for interactive visualisations\n",
        "\n",
        "# Load processed dataset (output from 100k 01_ETL.ipynb) and check structure\n",
        "df = pd.read_csv(\"data/processed/card_transdata_processed.csv\")\n",
        "\n",
        "df.shape # display the shape of the dataframe"
      ]
    },
    {
      "cell_type": "code",
      "execution_count": 5,
      "metadata": {},
      "outputs": [
        {
          "data": {
            "text/html": [
              "<div>\n",
              "<style scoped>\n",
              "    .dataframe tbody tr th:only-of-type {\n",
              "        vertical-align: middle;\n",
              "    }\n",
              "\n",
              "    .dataframe tbody tr th {\n",
              "        vertical-align: top;\n",
              "    }\n",
              "\n",
              "    .dataframe thead th {\n",
              "        text-align: right;\n",
              "    }\n",
              "</style>\n",
              "<table border=\"1\" class=\"dataframe\">\n",
              "  <thead>\n",
              "    <tr style=\"text-align: right;\">\n",
              "      <th></th>\n",
              "      <th>distance_from_home</th>\n",
              "      <th>distance_from_last_transaction</th>\n",
              "      <th>ratio_to_median_purchase_price</th>\n",
              "      <th>repeat_retailer</th>\n",
              "      <th>used_chip</th>\n",
              "      <th>used_pin_number</th>\n",
              "      <th>online_order</th>\n",
              "      <th>fraud</th>\n",
              "      <th>log_distance_from_home</th>\n",
              "      <th>log_distance_from_last_transaction</th>\n",
              "      <th>log_ratio_to_median_purchase_price</th>\n",
              "      <th>log_distance_from_home_bin</th>\n",
              "      <th>log_purchase_price_bin</th>\n",
              "      <th>log_distance_from_last_transaction_bin</th>\n",
              "      <th>online_high_distance</th>\n",
              "      <th>online_chip_category</th>\n",
              "      <th>online_and_chip</th>\n",
              "    </tr>\n",
              "  </thead>\n",
              "  <tbody>\n",
              "    <tr>\n",
              "      <th>0</th>\n",
              "      <td>19.179396</td>\n",
              "      <td>0.178758</td>\n",
              "      <td>2.979353</td>\n",
              "      <td>1</td>\n",
              "      <td>0</td>\n",
              "      <td>0</td>\n",
              "      <td>1</td>\n",
              "      <td>0</td>\n",
              "      <td>3.004662</td>\n",
              "      <td>0.164461</td>\n",
              "      <td>1.381119</td>\n",
              "      <td>3</td>\n",
              "      <td>4</td>\n",
              "      <td>0</td>\n",
              "      <td>1</td>\n",
              "      <td>online_no_chip</td>\n",
              "      <td>0</td>\n",
              "    </tr>\n",
              "    <tr>\n",
              "      <th>1</th>\n",
              "      <td>47.192898</td>\n",
              "      <td>1.224832</td>\n",
              "      <td>0.293538</td>\n",
              "      <td>1</td>\n",
              "      <td>1</td>\n",
              "      <td>0</td>\n",
              "      <td>1</td>\n",
              "      <td>0</td>\n",
              "      <td>3.875212</td>\n",
              "      <td>0.799681</td>\n",
              "      <td>0.257381</td>\n",
              "      <td>4</td>\n",
              "      <td>0</td>\n",
              "      <td>2</td>\n",
              "      <td>1</td>\n",
              "      <td>online_with_chip</td>\n",
              "      <td>1</td>\n",
              "    </tr>\n",
              "    <tr>\n",
              "      <th>2</th>\n",
              "      <td>54.389043</td>\n",
              "      <td>5.290910</td>\n",
              "      <td>4.492304</td>\n",
              "      <td>1</td>\n",
              "      <td>1</td>\n",
              "      <td>0</td>\n",
              "      <td>0</td>\n",
              "      <td>0</td>\n",
              "      <td>4.014382</td>\n",
              "      <td>1.839106</td>\n",
              "      <td>1.703348</td>\n",
              "      <td>4</td>\n",
              "      <td>4</td>\n",
              "      <td>4</td>\n",
              "      <td>0</td>\n",
              "      <td>offline_with_chip</td>\n",
              "      <td>0</td>\n",
              "    </tr>\n",
              "    <tr>\n",
              "      <th>3</th>\n",
              "      <td>3.129745</td>\n",
              "      <td>0.607212</td>\n",
              "      <td>0.357527</td>\n",
              "      <td>1</td>\n",
              "      <td>0</td>\n",
              "      <td>0</td>\n",
              "      <td>1</td>\n",
              "      <td>0</td>\n",
              "      <td>1.418216</td>\n",
              "      <td>0.474501</td>\n",
              "      <td>0.305665</td>\n",
              "      <td>1</td>\n",
              "      <td>0</td>\n",
              "      <td>1</td>\n",
              "      <td>0</td>\n",
              "      <td>online_no_chip</td>\n",
              "      <td>0</td>\n",
              "    </tr>\n",
              "    <tr>\n",
              "      <th>4</th>\n",
              "      <td>0.925275</td>\n",
              "      <td>2.238057</td>\n",
              "      <td>0.684942</td>\n",
              "      <td>0</td>\n",
              "      <td>0</td>\n",
              "      <td>0</td>\n",
              "      <td>0</td>\n",
              "      <td>0</td>\n",
              "      <td>0.655069</td>\n",
              "      <td>1.174974</td>\n",
              "      <td>0.521731</td>\n",
              "      <td>0</td>\n",
              "      <td>1</td>\n",
              "      <td>3</td>\n",
              "      <td>0</td>\n",
              "      <td>offline_no_chip</td>\n",
              "      <td>0</td>\n",
              "    </tr>\n",
              "  </tbody>\n",
              "</table>\n",
              "</div>"
            ],
            "text/plain": [
              "   distance_from_home  distance_from_last_transaction  \\\n",
              "0           19.179396                        0.178758   \n",
              "1           47.192898                        1.224832   \n",
              "2           54.389043                        5.290910   \n",
              "3            3.129745                        0.607212   \n",
              "4            0.925275                        2.238057   \n",
              "\n",
              "   ratio_to_median_purchase_price  repeat_retailer  used_chip  \\\n",
              "0                        2.979353                1          0   \n",
              "1                        0.293538                1          1   \n",
              "2                        4.492304                1          1   \n",
              "3                        0.357527                1          0   \n",
              "4                        0.684942                0          0   \n",
              "\n",
              "   used_pin_number  online_order  fraud  log_distance_from_home  \\\n",
              "0                0             1      0                3.004662   \n",
              "1                0             1      0                3.875212   \n",
              "2                0             0      0                4.014382   \n",
              "3                0             1      0                1.418216   \n",
              "4                0             0      0                0.655069   \n",
              "\n",
              "   log_distance_from_last_transaction  log_ratio_to_median_purchase_price  \\\n",
              "0                            0.164461                            1.381119   \n",
              "1                            0.799681                            0.257381   \n",
              "2                            1.839106                            1.703348   \n",
              "3                            0.474501                            0.305665   \n",
              "4                            1.174974                            0.521731   \n",
              "\n",
              "   log_distance_from_home_bin  log_purchase_price_bin  \\\n",
              "0                           3                       4   \n",
              "1                           4                       0   \n",
              "2                           4                       4   \n",
              "3                           1                       0   \n",
              "4                           0                       1   \n",
              "\n",
              "   log_distance_from_last_transaction_bin  online_high_distance  \\\n",
              "0                                       0                     1   \n",
              "1                                       2                     1   \n",
              "2                                       4                     0   \n",
              "3                                       1                     0   \n",
              "4                                       3                     0   \n",
              "\n",
              "  online_chip_category  online_and_chip  \n",
              "0       online_no_chip                0  \n",
              "1     online_with_chip                1  \n",
              "2    offline_with_chip                0  \n",
              "3       online_no_chip                0  \n",
              "4      offline_no_chip                0  "
            ]
          },
          "execution_count": 5,
          "metadata": {},
          "output_type": "execute_result"
        }
      ],
      "source": [
        "df.head() # display the first 5 rows of the dataframe to check data loaded correctly"
      ]
    },
    {
      "cell_type": "code",
      "execution_count": 6,
      "metadata": {},
      "outputs": [
        {
          "name": "stdout",
          "output_type": "stream",
          "text": [
            "Fraud rate: 8.74% (8740 fraud cases out of 100000 total transactions)\n",
            "Class balance matches expected rate (8.74%)\n",
            "Imbalance ratio is: 1:10.4 (non-fraud to fraud)\n"
          ]
        }
      ],
      "source": [
        "\n",
        "# Display fraud rate and counts clearly\n",
        "fraud_count = int(df['fraud'].sum()) # count the number of fraud cases\n",
        "fraud_rate = df['fraud'].mean() # calculate the fraud rate\n",
        "total_rows = df.shape[0] # get the total number of transactions\n",
        "print(f\"Fraud rate: {fraud_rate:.2%} ({fraud_count} fraud cases out of {total_rows} total transactions)\") # display fraud rate and counts clearly\n",
        "\n",
        "# Verify against expected rate from sample_log.json\n",
        "expected_fraud_rate = 0.0874  # 8.74% from stratified sampling\n",
        "rate_difference = abs(fraud_rate - expected_fraud_rate) # calculate difference\n",
        "\n",
        "if rate_difference < 0.0001:  # allows for tiny floating point difference\n",
        "    print(f\"Class balance matches expected rate ({expected_fraud_rate:.2%})\") # print confirmation if rates match\n",
        "else:\n",
        "    print(f\"Mismatch Fraud rate {fraud_rate:.4%} differs from expected {expected_fraud_rate:.2%}\")\n",
        "\n",
        "# Calculate imbalance ratio\n",
        "imbalance_ratio = (1 - fraud_rate) / fraud_rate # ratio of non-fraud to fraud cases\n",
        "print(f\"Imbalance ratio is: 1:{imbalance_ratio:.1f} (non-fraud to fraud)\") # display imbalance ratio"
      ]
    },
    {
      "cell_type": "markdown",
      "metadata": {},
      "source": [
        "**Class Distribution Additional Checks**\n",
        "\n",
        "The proportion of fraudulent and non-fraudulent transactions is visualised further here confirm the class balance.The dataset shows 8.7 % fraud and 91.3 % non-fraud, reflecting the expected imbalance from the full dataset.\n",
        "\n",
        "Two visuals are provided side by side for clarity:\n",
        "- A bar chart showing transaction counts by class.\n",
        "- A pie chart illustrating percentage distribution.\n",
        "\n",
        "Matplotlib was used to create both a bar chart and a pie chart showing the distribution of fraudulent and non-fraudulent transactions.\n",
        "Matplotlib provides fine control over layout and styling, making it ideal for simple visual checks like class balance. \n",
        "\n",
        "This confirms that the sampling and processing steps preserved the original class proportions, and that fraud remains a minority class for all subsequent analysis and modelling."
      ]
    },
    {
      "cell_type": "code",
      "execution_count": 7,
      "metadata": {},
      "outputs": [
        {
          "data": {
            "image/png": "[encoded data removed]",
            "text/plain": [
              "<Figure size 1200x600 with 2 Axes>"
            ]
          },
          "metadata": {},
          "output_type": "display_data"
        },
        {
          "name": "stdout",
          "output_type": "stream",
          "text": [
            "Class imbalance: 8.74% fraud, 91.26% non-fraud\n",
            "Imbalance ratio: 1:10\n"
          ]
        }
      ],
      "source": [
        "# Visualise overall fraud class balance (Matplotlib)\n",
        "fraud_counts = df['fraud'].value_counts() # Count of each class\n",
        "fraud_pct = df['fraud'].value_counts(normalize=True) # Percentage of each class\n",
        "\n",
        "fig, axes = plt.subplots(1, 2, figsize=(12, 6)) # 1 row, 2 colmumns for side-by-side plots\n",
        "\n",
        "# Fraud Count Bar Plot\n",
        "axes[0].bar(['Non-Fraud', 'Fraud'], fraud_counts.values, color=['lightblue', 'darkorange']) # bar chart\n",
        "axes[0].set_ylabel('Count') # y-axis label\n",
        "axes[0].set_title('Transaction Counts by Class') # title\n",
        "axes[0].set_ylim(0, fraud_counts.max() * 1.1) # set y-axis limit\n",
        "for i, v in enumerate(fraud_counts.values): # loop through bars\n",
        "    axes[0].text(i, v, f'{v:,}', ha='center', va='bottom', fontweight='bold') # value labels\n",
        "\n",
        "# Percentage Pie Plot\n",
        "axes[1].pie(fraud_pct.values, labels=['Non-Fraud', 'Fraud'], autopct='%1.1f%%',  # display percentages\n",
        "            colors=['lightblue', 'darkorange'], startangle=90) # pie chart\n",
        "axes[1].set_title('Class Distribution (%)') # title\n",
        "\n",
        "plt.tight_layout(pad=5.0) # adjust layout\n",
        "plt.show() # display plot\n",
        "\n",
        "print(f\"Class imbalance: {fraud_pct[1]:.2%} fraud, {fraud_pct[0]:.2%} non-fraud\") # print class percentages\n",
        "print(f\"Imbalance ratio: 1:{int(fraud_pct[0]/fraud_pct[1])}\") # print imbalance ratio"
      ]
    },
    {
      "cell_type": "markdown",
      "metadata": {
        "id": "uFQo3ycuO-v6"
      },
      "source": []
    },
    {
      "cell_type": "markdown",
      "metadata": {},
      "source": [
        "Section 2 content"
      ]
    },
    {
      "cell_type": "code",
      "execution_count": null,
      "metadata": {},
      "outputs": [],
      "source": []
    },
    {
      "cell_type": "markdown",
      "metadata": {},
      "source": [
        "---"
      ]
    },
    {
      "cell_type": "markdown",
      "metadata": {
        "id": "ltNetd085qHf"
      },
      "source": [
        "# Conclusion and Next Steps"
      ]
    }
  ],
  "metadata": {
    "accelerator": "GPU",
    "colab": {
      "name": "Data Practitioner Jupyter Notebook.ipynb",
      "provenance": [],
      "toc_visible": true
    },
    "kernelspec": {
      "display_name": ".venv (3.12.8)",
      "language": "python",
      "name": "python3"
    },
    "language_info": {
      "codemirror_mode": {
        "name": "ipython",
        "version": 3
      },
      "file_extension": ".py",
      "mimetype": "text/x-python",
      "name": "python",
      "nbconvert_exporter": "python",
      "pygments_lexer": "ipython3",
      "version": "3.12.8"
    },
    "orig_nbformat": 2
  },
  "nbformat": 4,
  "nbformat_minor": 2
}
