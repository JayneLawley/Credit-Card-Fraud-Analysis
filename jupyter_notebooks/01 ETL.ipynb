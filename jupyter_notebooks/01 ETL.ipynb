{
  "cells": [
    {
      "cell_type": "markdown",
      "metadata": {
        "id": "0aStgWSO0E0E"
      },
      "source": [
        "# ***Extract, Load and Transform Data**"
      ]
    },
    {
      "cell_type": "markdown",
      "metadata": {
        "id": "1eLEkw5O0ECa"
      },
      "source": [
        "## Objectives\n",
        "\n",
        "* Extract and prepare the Kaggle synthetic credit card transactions dataset for analysis and modelling. Specifically:\n",
        "- Validate dataset structure.\n",
        "- Perform exploratory quality checks (missing values, duplicates, ranges).\n",
        "- Clean and standardise data.\n",
        "- Engineer features to improve interpretability and model performance.\n",
        "\n",
        "## Inputs\n",
        "\n",
        "* Sampled Kaggle Credit Card Fraud Dataset data/raw/card_transdata_sample_100k.csv (this was produced from full dataset downloaded from https://www.kaggle.com/datasets/dhanushnarayananr/credit-card-fraud/data/code).\n",
        "\n",
        "**What this notebook does:**\n",
        "\n",
        "## Outputs\n",
        "\n",
        "* Write here which files, code or artefacts you generate by the end of the notebook \n",
        "\n",
        "## Additional Comments\n",
        "\n",
        "* If you have any additional comments that don't fit in the previous bullets, please state them here. \n",
        "\n"
      ]
    },
    {
      "cell_type": "markdown",
      "metadata": {
        "id": "9uWZXH9LwoQg"
      },
      "source": [
        "---"
      ]
    },
    {
      "cell_type": "markdown",
      "metadata": {
        "id": "cqP-UeN-z3i2"
      },
      "source": [
        "# Change working directory"
      ]
    },
    {
      "cell_type": "markdown",
      "metadata": {},
      "source": [
        "I need to change the working directory from the current folder to its parent folder (required because the notebook is being run from inside the jupyter notebooks subfolder). In the code below, I change the working directory from its current folder to its parent folder.  \n",
        "* I access the current directory with os.getcwd()"
      ]
    },
    {
      "cell_type": "code",
      "execution_count": 1,
      "metadata": {
        "id": "wZfF_j-Bz3i4",
        "outputId": "66943449-1436-4c3d-85c7-b85f9f78349b"
      },
      "outputs": [
        {
          "data": {
            "text/plain": [
              "'c:\\\\DA_Capstone\\\\Credit-Card-Fraud-Analysis\\\\jupyter_notebooks'"
            ]
          },
          "execution_count": 1,
          "metadata": {},
          "output_type": "execute_result"
        }
      ],
      "source": [
        "import os\n",
        "current_dir = os.getcwd()\n",
        "current_dir"
      ]
    },
    {
      "cell_type": "markdown",
      "metadata": {
        "id": "9MWW8E7lz3i7"
      },
      "source": [
        "We want to make the parent of the current directory the new current directory\n",
        "* os.path.dirname() gets the parent directory\n",
        "* os.chir() defines the new current directory"
      ]
    },
    {
      "cell_type": "code",
      "execution_count": 2,
      "metadata": {
        "id": "TwHsQRWjz3i9",
        "outputId": "86849db3-cd2f-4cc5-ebb8-2d0caafa1a2c"
      },
      "outputs": [
        {
          "name": "stdout",
          "output_type": "stream",
          "text": [
            "You set a new current directory\n"
          ]
        }
      ],
      "source": [
        "os.chdir(os.path.dirname(current_dir))\n",
        "print(\"You set a new current directory\")"
      ]
    },
    {
      "cell_type": "markdown",
      "metadata": {
        "id": "M_xPk_Ijz3i-"
      },
      "source": [
        "Confirm the new current directory"
      ]
    },
    {
      "cell_type": "code",
      "execution_count": 3,
      "metadata": {
        "id": "vz3S-_kjz3jA",
        "outputId": "00b79ae4-75d0-4a96-d193-ac9ef9847ea2"
      },
      "outputs": [
        {
          "data": {
            "text/plain": [
              "'c:\\\\DA_Capstone\\\\Credit-Card-Fraud-Analysis'"
            ]
          },
          "execution_count": 3,
          "metadata": {},
          "output_type": "execute_result"
        }
      ],
      "source": [
        "current_dir = os.getcwd()\n",
        "current_dir"
      ]
    },
    {
      "cell_type": "markdown",
      "metadata": {
        "id": "-mavJ8DibrcQ"
      },
      "source": [
        "---\n",
        "# Section 1: Data Load (Pre-Created 100k Sample)\n",
        "**About the Dataset:**\n",
        "\n",
        "This notebook works with a pre-created stratified sample of 100,000 rows from a larger synthetic credit card fraud dataset (originally 1M rows). The sample preserves the fraud class balance (8.74% fraud rate) and was created using stratified sampling.\n",
        "\n",
        "**Sample Creation Details:**\n",
        "- Original dataset: 1,000,000 rows, 87,403 fraud cases (8.74%)\n",
        "- Sample dataset: 100,000 rows, 8,740 fraud cases (8.74%)\n",
        "- Method: Stratified sampling via sklearn.model_selection.train_test_split\n",
        "- Random seed: 42 (for reproducibility)\n",
        "- Validation: data/raw/sample_log.json for full metadata and checksums\n",
        "\n",
        "**In this section:**\n",
        "- Load the 100k stratified sample from data/raw/card_transdata_sample_100k.csv\n",
        "- Conduct basic shape and structure checks\n",
        "- Verify data loaded correctly before proceeding to cleaning and feature engineering"
      ]
    },
    {
      "cell_type": "markdown",
      "metadata": {},
      "source": [
        "Section 1 content"
      ]
    },
    {
      "cell_type": "code",
      "execution_count": 4,
      "metadata": {},
      "outputs": [
        {
          "name": "stdout",
          "output_type": "stream",
          "text": [
            "   distance_from_home  distance_from_last_transaction  \\\n",
            "0           19.179396                        0.178758   \n",
            "1           47.192898                        1.224832   \n",
            "2           54.389043                        5.290910   \n",
            "3            3.129745                        0.607212   \n",
            "4            0.925275                        2.238057   \n",
            "\n",
            "   ratio_to_median_purchase_price  repeat_retailer  used_chip  \\\n",
            "0                        2.979353              1.0        0.0   \n",
            "1                        0.293538              1.0        1.0   \n",
            "2                        4.492304              1.0        1.0   \n",
            "3                        0.357527              1.0        0.0   \n",
            "4                        0.684942              0.0        0.0   \n",
            "\n",
            "   used_pin_number  online_order  fraud  \n",
            "0              0.0           1.0    0.0  \n",
            "1              0.0           1.0    0.0  \n",
            "2              0.0           0.0    0.0  \n",
            "3              0.0           1.0    0.0  \n",
            "4              0.0           0.0    0.0  \n",
            "(100000, 8)\n",
            "Fraud rate: 8.7400% (8740 fraud cases out of 100000 total transactions)\n"
          ]
        }
      ],
      "source": [
        "# Load libraries and the 100k stratified sample dataset\n",
        "\n",
        "from pathlib import Path # load the pathlib library\n",
        "\n",
        "import numpy as mp # load the numpy library\n",
        "import pandas as pd # load the pandas library\n",
        "import matplotlib.pyplot as plt # load the matplotlib library\n",
        "import seaborn as sns # load the seaborn library\n",
        "import json # for reading sample metadat\n",
        "\n",
        "# load the 100k stratified sample dataset\n",
        "df = pd.read_csv('data/raw/card_transdata_sample_100k.csv') # load the dataset\n",
        "\n",
        "print(df.head()) # display the first 5 rows of the dataframe (use print as multiple outputs are not supported in script, single output no print needed)\n",
        "\n",
        "print(df.shape) # display the shape of the dataframe\n",
        "\n",
        "# Display fraud rate and counts clearly\n",
        "fraud_count = int(df['fraud'].sum()) # count the number of fraud cases\n",
        "fraud_rate = df['fraud'].mean() # calculate the fraud rate\n",
        "total_rows = df.shape[0] # get the total number of transactions\n",
        "print(f\"Fraud rate: {fraud_rate:.4%} ({fraud_count} fraud cases out of {total_rows} total transactions)\") # display fraud rate and counts clearly"
      ]
    },
    {
      "cell_type": "markdown",
      "metadata": {
        "id": "ZY3l0-AxO93d"
      },
      "source": [
        "---"
      ]
    },
    {
      "cell_type": "markdown",
      "metadata": {
        "id": "uFQo3ycuO-v6"
      },
      "source": [
        "# Section 2 Data Structure and Quality Check"
      ]
    },
    {
      "cell_type": "markdown",
      "metadata": {},
      "source": [
        "Section 2 content"
      ]
    },
    {
      "cell_type": "code",
      "execution_count": 11,
      "metadata": {},
      "outputs": [
        {
          "name": "stdout",
          "output_type": "stream",
          "text": [
            "Dataset shape:\n",
            "(100000, 8)\n",
            "\n",
            "Column information:\n"
          ]
        },
        {
          "data": {
            "text/html": [
              "<div>\n",
              "<style scoped>\n",
              "    .dataframe tbody tr th:only-of-type {\n",
              "        vertical-align: middle;\n",
              "    }\n",
              "\n",
              "    .dataframe tbody tr th {\n",
              "        vertical-align: top;\n",
              "    }\n",
              "\n",
              "    .dataframe thead th {\n",
              "        text-align: right;\n",
              "    }\n",
              "</style>\n",
              "<table border=\"1\" class=\"dataframe\">\n",
              "  <thead>\n",
              "    <tr style=\"text-align: right;\">\n",
              "      <th></th>\n",
              "      <th>Data Type</th>\n",
              "      <th>Non-Null Count</th>\n",
              "      <th>Missing Values</th>\n",
              "      <th>missing_pct</th>\n",
              "      <th>Unique Values</th>\n",
              "    </tr>\n",
              "  </thead>\n",
              "  <tbody>\n",
              "    <tr>\n",
              "      <th>distance_from_home</th>\n",
              "      <td>float64</td>\n",
              "      <td>100000</td>\n",
              "      <td>0</td>\n",
              "      <td>0.0</td>\n",
              "      <td>100000</td>\n",
              "    </tr>\n",
              "    <tr>\n",
              "      <th>distance_from_last_transaction</th>\n",
              "      <td>float64</td>\n",
              "      <td>100000</td>\n",
              "      <td>0</td>\n",
              "      <td>0.0</td>\n",
              "      <td>100000</td>\n",
              "    </tr>\n",
              "    <tr>\n",
              "      <th>ratio_to_median_purchase_price</th>\n",
              "      <td>float64</td>\n",
              "      <td>100000</td>\n",
              "      <td>0</td>\n",
              "      <td>0.0</td>\n",
              "      <td>100000</td>\n",
              "    </tr>\n",
              "    <tr>\n",
              "      <th>repeat_retailer</th>\n",
              "      <td>float64</td>\n",
              "      <td>100000</td>\n",
              "      <td>0</td>\n",
              "      <td>0.0</td>\n",
              "      <td>2</td>\n",
              "    </tr>\n",
              "    <tr>\n",
              "      <th>used_chip</th>\n",
              "      <td>float64</td>\n",
              "      <td>100000</td>\n",
              "      <td>0</td>\n",
              "      <td>0.0</td>\n",
              "      <td>2</td>\n",
              "    </tr>\n",
              "    <tr>\n",
              "      <th>used_pin_number</th>\n",
              "      <td>float64</td>\n",
              "      <td>100000</td>\n",
              "      <td>0</td>\n",
              "      <td>0.0</td>\n",
              "      <td>2</td>\n",
              "    </tr>\n",
              "    <tr>\n",
              "      <th>online_order</th>\n",
              "      <td>float64</td>\n",
              "      <td>100000</td>\n",
              "      <td>0</td>\n",
              "      <td>0.0</td>\n",
              "      <td>2</td>\n",
              "    </tr>\n",
              "    <tr>\n",
              "      <th>fraud</th>\n",
              "      <td>float64</td>\n",
              "      <td>100000</td>\n",
              "      <td>0</td>\n",
              "      <td>0.0</td>\n",
              "      <td>2</td>\n",
              "    </tr>\n",
              "  </tbody>\n",
              "</table>\n",
              "</div>"
            ],
            "text/plain": [
              "                               Data Type  Non-Null Count  Missing Values  \\\n",
              "distance_from_home               float64          100000               0   \n",
              "distance_from_last_transaction   float64          100000               0   \n",
              "ratio_to_median_purchase_price   float64          100000               0   \n",
              "repeat_retailer                  float64          100000               0   \n",
              "used_chip                        float64          100000               0   \n",
              "used_pin_number                  float64          100000               0   \n",
              "online_order                     float64          100000               0   \n",
              "fraud                            float64          100000               0   \n",
              "\n",
              "                                missing_pct  Unique Values  \n",
              "distance_from_home                      0.0         100000  \n",
              "distance_from_last_transaction          0.0         100000  \n",
              "ratio_to_median_purchase_price          0.0         100000  \n",
              "repeat_retailer                         0.0              2  \n",
              "used_chip                               0.0              2  \n",
              "used_pin_number                         0.0              2  \n",
              "online_order                            0.0              2  \n",
              "fraud                                   0.0              2  "
            ]
          },
          "execution_count": 11,
          "metadata": {},
          "output_type": "execute_result"
        }
      ],
      "source": [
        "#  Basic structure of the dataframe and quality check\n",
        "\n",
        "print(\"Dataset shape:\") # Print \"Dataset shape\" before next print output for clarity\n",
        "print(df.shape) # display the shape of the dataframe\n",
        "\n",
        "print(\"\\nColumn information:\") # write \"column information\" before next print output for clarity\n",
        "\n",
        "# Check data types, non-null counts and missing values and create summary table\n",
        "summary = (\n",
        "    pd.DataFrame({\n",
        "    'Data Type': df.dtypes, # data types\n",
        "    'Non-Null Count': df.notnull().sum(), # non-null counts\n",
        "    'Missing Values': df.isnull().sum(),\n",
        "   \"missing_pct\": (df.isna().mean()*100).round(3),  # percent missing NaN values per column \n",
        "    'Unique Values': df.nunique() # unique values\n",
        "})\n",
        ".sort_values(by='Missing Values', ascending=False) # sort by missing values\n",
        "\n",
        ")\n",
        "\n",
        "summary  # display the summary table"
      ]
    },
    {
      "cell_type": "code",
      "execution_count": 12,
      "metadata": {},
      "outputs": [
        {
          "name": "stdout",
          "output_type": "stream",
          "text": [
            "\n",
            "Number of duplicate rows: 0\n"
          ]
        }
      ],
      "source": [
        " # check for duplicate rows\n",
        "duplicate_rows = df.duplicated().sum() # count duplicate rows\n",
        "print(f\"\\nNumber of duplicate rows: {duplicate_rows}\") # adds text to the output stating number of duplicate rows for clarity"
      ]
    },
    {
      "cell_type": "code",
      "execution_count": null,
      "metadata": {},
      "outputs": [
        {
          "name": "stdout",
          "output_type": "stream",
          "text": [
            "\n",
            "Value Range Validation (Continuous Variables):\n",
            "--------------------------------------------------\n",
            "distance_from_home                 : min=   0.025, max=5797.973\n",
            "distance_from_last_transaction     : min=   0.000, max=4968.315\n",
            "ratio_to_median_purchase_price     : min=   0.007, max= 266.690\n",
            "\n",
            "Negative Value Counts (Continuous Variables):\n",
            "\n",
            "✓ All continuous variables have valid non-negative values\n"
          ]
        }
      ],
      "source": [
        "# Validate ranges are sensible for continuous variables\n",
        "print(\"\\nValue Range Validation (Continuous Variables):\") # adds text to the output before the range validation for clarity\n",
        "print(\"-\" * 50) # --- separator line for clarity\n",
        "\n",
        "cont_cols = [\"distance_from_home\", \n",
        "             \"distance_from_last_transaction\", \n",
        "             \"ratio_to_median_purchase_price\"] # list of continuous variable columns\n",
        "\n",
        "for col in cont_cols:\n",
        "    min_val = df[col].min() # calculate minimum value\n",
        "    max_val = df[col].max() # calculate maximum value\n",
        "    print(f\"{col:35s}: min={min_val:8.3f}, max={max_val:8.3f}\") # formatted print for clarity\n",
        "\n",
        "# Check for any negative values (should be none)\n",
        "negative_counts = (df[cont_cols] < 0).sum() # count negative values in continuous variables\n",
        "print(\"\\nNegative Value Counts (Continuous Variables):\") # adds text to the output before the\n",
        "if negative_counts.sum() > 0: # if there are any negative values\n",
        "    print(negative_counts[negative_counts > 0]) # display counts of negative values\n",
        "else:\n",
        "    print(\"\\n✓ All continuous variables have valid non-negative values\") # confirmation message if no negative values"
      ]
    },
    {
      "cell_type": "markdown",
      "metadata": {},
      "source": [
        "# Section 3: Descriptive Stats Review for all Variables "
      ]
    },
    {
      "cell_type": "code",
      "execution_count": 20,
      "metadata": {},
      "outputs": [
        {
          "data": {
            "text/html": [
              "<div>\n",
              "<style scoped>\n",
              "    .dataframe tbody tr th:only-of-type {\n",
              "        vertical-align: middle;\n",
              "    }\n",
              "\n",
              "    .dataframe tbody tr th {\n",
              "        vertical-align: top;\n",
              "    }\n",
              "\n",
              "    .dataframe thead th {\n",
              "        text-align: right;\n",
              "    }\n",
              "</style>\n",
              "<table border=\"1\" class=\"dataframe\">\n",
              "  <thead>\n",
              "    <tr style=\"text-align: right;\">\n",
              "      <th></th>\n",
              "      <th>distance_from_home</th>\n",
              "      <th>distance_from_last_transaction</th>\n",
              "      <th>ratio_to_median_purchase_price</th>\n",
              "      <th>repeat_retailer</th>\n",
              "      <th>used_chip</th>\n",
              "      <th>used_pin_number</th>\n",
              "      <th>online_order</th>\n",
              "      <th>fraud</th>\n",
              "    </tr>\n",
              "  </thead>\n",
              "  <tbody>\n",
              "    <tr>\n",
              "      <th>count</th>\n",
              "      <td>100000.000000</td>\n",
              "      <td>100000.000000</td>\n",
              "      <td>100000.000000</td>\n",
              "      <td>100000.000000</td>\n",
              "      <td>100000.00000</td>\n",
              "      <td>100000.000000</td>\n",
              "      <td>100000.000000</td>\n",
              "      <td>100000.000000</td>\n",
              "    </tr>\n",
              "    <tr>\n",
              "      <th>mean</th>\n",
              "      <td>26.681624</td>\n",
              "      <td>5.048395</td>\n",
              "      <td>1.832806</td>\n",
              "      <td>0.880780</td>\n",
              "      <td>0.34857</td>\n",
              "      <td>0.101290</td>\n",
              "      <td>0.651250</td>\n",
              "      <td>0.087400</td>\n",
              "    </tr>\n",
              "    <tr>\n",
              "      <th>std</th>\n",
              "      <td>67.723706</td>\n",
              "      <td>28.179679</td>\n",
              "      <td>2.883186</td>\n",
              "      <td>0.324049</td>\n",
              "      <td>0.47652</td>\n",
              "      <td>0.301714</td>\n",
              "      <td>0.476577</td>\n",
              "      <td>0.282422</td>\n",
              "    </tr>\n",
              "    <tr>\n",
              "      <th>min</th>\n",
              "      <td>0.024602</td>\n",
              "      <td>0.000434</td>\n",
              "      <td>0.007427</td>\n",
              "      <td>0.000000</td>\n",
              "      <td>0.00000</td>\n",
              "      <td>0.000000</td>\n",
              "      <td>0.000000</td>\n",
              "      <td>0.000000</td>\n",
              "    </tr>\n",
              "    <tr>\n",
              "      <th>25%</th>\n",
              "      <td>3.875510</td>\n",
              "      <td>0.293744</td>\n",
              "      <td>0.476066</td>\n",
              "      <td>1.000000</td>\n",
              "      <td>0.00000</td>\n",
              "      <td>0.000000</td>\n",
              "      <td>0.000000</td>\n",
              "      <td>0.000000</td>\n",
              "    </tr>\n",
              "    <tr>\n",
              "      <th>50%</th>\n",
              "      <td>9.942868</td>\n",
              "      <td>0.997630</td>\n",
              "      <td>1.002759</td>\n",
              "      <td>1.000000</td>\n",
              "      <td>0.00000</td>\n",
              "      <td>0.000000</td>\n",
              "      <td>1.000000</td>\n",
              "      <td>0.000000</td>\n",
              "    </tr>\n",
              "    <tr>\n",
              "      <th>75%</th>\n",
              "      <td>25.717717</td>\n",
              "      <td>3.358880</td>\n",
              "      <td>2.102391</td>\n",
              "      <td>1.000000</td>\n",
              "      <td>1.00000</td>\n",
              "      <td>0.000000</td>\n",
              "      <td>1.000000</td>\n",
              "      <td>0.000000</td>\n",
              "    </tr>\n",
              "    <tr>\n",
              "      <th>max</th>\n",
              "      <td>5797.972589</td>\n",
              "      <td>4968.315477</td>\n",
              "      <td>266.689692</td>\n",
              "      <td>1.000000</td>\n",
              "      <td>1.00000</td>\n",
              "      <td>1.000000</td>\n",
              "      <td>1.000000</td>\n",
              "      <td>1.000000</td>\n",
              "    </tr>\n",
              "  </tbody>\n",
              "</table>\n",
              "</div>"
            ],
            "text/plain": [
              "       distance_from_home  distance_from_last_transaction  \\\n",
              "count       100000.000000                   100000.000000   \n",
              "mean            26.681624                        5.048395   \n",
              "std             67.723706                       28.179679   \n",
              "min              0.024602                        0.000434   \n",
              "25%              3.875510                        0.293744   \n",
              "50%              9.942868                        0.997630   \n",
              "75%             25.717717                        3.358880   \n",
              "max           5797.972589                     4968.315477   \n",
              "\n",
              "       ratio_to_median_purchase_price  repeat_retailer     used_chip  \\\n",
              "count                   100000.000000    100000.000000  100000.00000   \n",
              "mean                         1.832806         0.880780       0.34857   \n",
              "std                          2.883186         0.324049       0.47652   \n",
              "min                          0.007427         0.000000       0.00000   \n",
              "25%                          0.476066         1.000000       0.00000   \n",
              "50%                          1.002759         1.000000       0.00000   \n",
              "75%                          2.102391         1.000000       1.00000   \n",
              "max                        266.689692         1.000000       1.00000   \n",
              "\n",
              "       used_pin_number   online_order          fraud  \n",
              "count    100000.000000  100000.000000  100000.000000  \n",
              "mean          0.101290       0.651250       0.087400  \n",
              "std           0.301714       0.476577       0.282422  \n",
              "min           0.000000       0.000000       0.000000  \n",
              "25%           0.000000       0.000000       0.000000  \n",
              "50%           0.000000       1.000000       0.000000  \n",
              "75%           0.000000       1.000000       0.000000  \n",
              "max           1.000000       1.000000       1.000000  "
            ]
          },
          "execution_count": 20,
          "metadata": {},
          "output_type": "execute_result"
        }
      ],
      "source": [
        "# Summary Stats for all variables\n",
        "df.describe(include='all')# display summary statistics for all variables in the dataframe\n"
      ]
    },
    {
      "cell_type": "markdown",
      "metadata": {},
      "source": [
        "---"
      ]
    },
    {
      "cell_type": "markdown",
      "metadata": {
        "id": "ltNetd085qHf"
      },
      "source": [
        "# Section 4: Distribution and Outlier Checks\n"
      ]
    },
    {
      "cell_type": "code",
      "execution_count": 22,
      "metadata": {},
      "outputs": [
        {
          "data": {
            "image/png": "[encoded data removed]",
            "text/plain": [
              "<Figure size 1200x600 with 4 Axes>"
            ]
          },
          "metadata": {},
          "output_type": "display_data"
        }
      ],
      "source": [
        "# Histograms for continuous variables\n",
        "cont_cols = [\"distance_from_home\", \n",
        "             \"distance_from_last_transaction\", \n",
        "             \"ratio_to_median_purchase_price\"] # list of continuous variable columns\n",
        "\n",
        "df[cont_cols].hist(bins=50, figsize=(12,6)) # plot histograms for continuous columns \n",
        "plt.suptitle(\"Distribution of Continuous Features\") # add a title\n",
        "plt.show() # display the plots"
      ]
    },
    {
      "cell_type": "code",
      "execution_count": 23,
      "metadata": {},
      "outputs": [
        {
          "data": {
            "image/png": "[encoded data removed]",
            "text/plain": [
              "<Figure size 1200x600 with 3 Axes>"
            ]
          },
          "metadata": {},
          "output_type": "display_data"
        }
      ],
      "source": [
        "# Boxplots for continuous variables to check for outliers\n",
        "df[cont_cols].plot(kind='box', subplots=True, layout=(1,3), figsize=(12,6)) # plot boxplots for continuous columns\n",
        "plt.suptitle(\"Boxplots of Continuous Features\") # add a title\n",
        "plt.show() # display the plots"
      ]
    },
    {
      "cell_type": "code",
      "execution_count": 24,
      "metadata": {},
      "outputs": [
        {
          "name": "stdout",
          "output_type": "stream",
          "text": [
            "distance_from_home                 : 10397 outliers (IQR method)\n",
            "distance_from_last_transaction     : 12469 outliers (IQR method)\n",
            "ratio_to_median_purchase_price     : 8464 outliers (IQR method)\n"
          ]
        }
      ],
      "source": [
        "# IQR method to identify outliers\n",
        "for col in cont_cols:\n",
        "    Q1 = df[col].quantile(0.25) # first quartile\n",
        "    Q3 = df[col].quantile(0.75) # third quartile\n",
        "    IQR = Q3 - Q1 # interquartile range\n",
        "    lower_bound = Q1 - 1.5 * IQR # lower bound for outliers\n",
        "    upper_bound = Q3 + 1.5 * IQR # upper bound for outliers\n",
        "    outliers = df[(df[col] < lower_bound) | (df[col] > upper_bound)] # identify outliers\n",
        "    print(f\"{col:35s}: {len(outliers)} outliers (IQR method)\") # formatted print of number of outliers"
      ]
    }
  ],
  "metadata": {
    "accelerator": "GPU",
    "colab": {
      "name": "Data Practitioner Jupyter Notebook.ipynb",
      "provenance": [],
      "toc_visible": true
    },
    "kernelspec": {
      "display_name": ".venv (3.12.8)",
      "language": "python",
      "name": "python3"
    },
    "language_info": {
      "codemirror_mode": {
        "name": "ipython",
        "version": 3
      },
      "file_extension": ".py",
      "mimetype": "text/x-python",
      "name": "python",
      "nbconvert_exporter": "python",
      "pygments_lexer": "ipython3",
      "version": "3.12.8"
    },
    "orig_nbformat": 2
  },
  "nbformat": 4,
  "nbformat_minor": 2
}
